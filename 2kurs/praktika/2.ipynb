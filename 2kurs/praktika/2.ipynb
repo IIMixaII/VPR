{
 "cells": [
  {
   "cell_type": "code",
   "execution_count": 7,
   "metadata": {},
   "outputs": [
    {
     "name": "stdout",
     "output_type": "stream",
     "text": [
      "[1 3 5]\n"
     ]
    }
   ],
   "source": [
    "import numpy as np\n",
    "#Найти индексы ненулевых элементов в заданном массиве.\n",
    "array = np.array([0, 5, 0, 10, 0, 15])\n",
    "nonzero_indices = np.nonzero(array)\n",
    "\n",
    "print(*nonzero_indices)"
   ]
  },
  {
   "cell_type": "code",
   "execution_count": 8,
   "metadata": {},
   "outputs": [
    {
     "name": "stdout",
     "output_type": "stream",
     "text": [
      "[[1. 0. 0. 0.]\n",
      " [0. 1. 0. 0.]\n",
      " [0. 0. 1. 0.]\n",
      " [0. 0. 0. 1.]]\n"
     ]
    }
   ],
   "source": [
    "import numpy as np\n",
    "#Создать nxn единичную матрицу.\n",
    "n = 4  # Задаем размерность матрицы (4 x 4)\n",
    "identity_matrix = np.eye(n)\n",
    "\n",
    "print(identity_matrix)\n"
   ]
  },
  {
   "cell_type": "code",
   "execution_count": 4,
   "metadata": {},
   "outputs": [
    {
     "name": "stdout",
     "output_type": "stream",
     "text": [
      "[[[0.11896129 0.83722607 0.4827251 ]\n",
      "  [0.6399285  0.25691661 0.84141418]\n",
      "  [0.1120742  0.45758966 0.20642585]]\n",
      "\n",
      " [[0.92557716 0.02603765 0.13078645]\n",
      "  [0.56920338 0.86364981 0.90525726]\n",
      "  [0.64089575 0.45155    0.22337082]]\n",
      "\n",
      " [[0.3767538  0.06075197 0.57682645]\n",
      "  [0.61338864 0.30975269 0.49259834]\n",
      "  [0.14114534 0.22120174 0.95650894]]]\n"
     ]
    }
   ],
   "source": [
    "import numpy as np\n",
    "#Создать массив nxnxn со случайными значениями\n",
    "n = 3  # Задаем размерность массива (3 x 3 x 3)\n",
    "random_array = np.random.random((n, n, n))\n",
    "\n",
    "print(random_array)\n"
   ]
  },
  {
   "cell_type": "code",
   "execution_count": 9,
   "metadata": {},
   "outputs": [
    {
     "name": "stdout",
     "output_type": "stream",
     "text": [
      "[0. 0. 0. 0. 0.]\n"
     ]
    }
   ],
   "source": [
    "import numpy as np\n",
    "#Создать вектор (одномерный массив) размера n, заполненный нулями\n",
    "n = 5  # Задаем размерность вектора (размерность = 5)\n",
    "zero_vector = np.zeros(n)\n",
    "\n",
    "print(zero_vector)\n"
   ]
  },
  {
   "cell_type": "code",
   "execution_count": 10,
   "metadata": {},
   "outputs": [
    {
     "name": "stdout",
     "output_type": "stream",
     "text": [
      "[0. 0. 0. 0. 1. 0. 0. 0. 0. 0.]\n"
     ]
    }
   ],
   "source": [
    "import numpy as np\n",
    "#Создать вектор размера 1n, заполненный нулями, но пятый элемент равен 1\n",
    "n = 10  # Задаем размер вектора (размер = 10)\n",
    "zero_vector = np.zeros(n)\n",
    "zero_vector[4] = 1  # Присваиваем значение 1 пятому элементу вектора\n",
    "\n",
    "print(zero_vector)\n"
   ]
  },
  {
   "cell_type": "code",
   "execution_count": 11,
   "metadata": {},
   "outputs": [
    {
     "name": "stdout",
     "output_type": "stream",
     "text": [
      "[ 1  2  3  4  5  6  7  8  9 10]\n"
     ]
    }
   ],
   "source": [
    "import numpy as np\n",
    "#Создать вектор со значениями от n до m\n",
    "n = 1  # Начальное значение\n",
    "m = 10  # Конечное значение (включительно)\n",
    "vector = np.arange(n, m+1)\n",
    "\n",
    "print(vector)\n"
   ]
  },
  {
   "cell_type": "code",
   "execution_count": 12,
   "metadata": {},
   "outputs": [
    {
     "name": "stdout",
     "output_type": "stream",
     "text": [
      "[5, 4, 3, 2, 1]\n"
     ]
    }
   ],
   "source": [
    "import numpy as np\n",
    "#Развернуть одномерный массив (первый становится последним)\n",
    "array = [1, 2, 3, 4, 5]  # Одномерный массив\n",
    "reversed_array = array[::-1]\n",
    "\n",
    "print(reversed_array)\n"
   ]
  },
  {
   "cell_type": "code",
   "execution_count": 13,
   "metadata": {},
   "outputs": [
    {
     "name": "stdout",
     "output_type": "stream",
     "text": [
      "[[1. 1. 1. 1. 1.]\n",
      " [1. 0. 0. 0. 1.]\n",
      " [1. 0. 0. 0. 1.]\n",
      " [1. 0. 0. 0. 1.]\n",
      " [1. 1. 1. 1. 1.]]\n"
     ]
    }
   ],
   "source": [
    "import numpy as np\n",
    "#Создать матрицу с 0 внутри, и 1 на границах\n",
    "n = 5  # Задаем размерность матрицы (n x n)\n",
    "\n",
    "# Создание матрицы, заполненной единицами\n",
    "matrix = np.ones((n, n))\n",
    "\n",
    "# Замена внутренних значений на нули\n",
    "matrix[1:-1, 1:-1] = 0\n",
    "\n",
    "print(matrix)\n",
    "\n"
   ]
  },
  {
   "cell_type": "code",
   "execution_count": 29,
   "metadata": {},
   "outputs": [
    {
     "name": "stdout",
     "output_type": "stream",
     "text": [
      "[[0. 1. 0. 1.]\n",
      " [1. 0. 1. 0.]\n",
      " [0. 1. 0. 1.]\n",
      " [1. 0. 1. 0.]]\n"
     ]
    }
   ],
   "source": [
    "import numpy as np\n",
    "#Создать nxn матрицу и заполнить её в шахматном порядке\n",
    "n = 4  # Задаем размерность матрицы (4x4)\n",
    "\n",
    "# Создание матрицы, заполненной нулями\n",
    "matrix = np.zeros((n, n))\n",
    "\n",
    "# Заполнение шахматного узора (чередование 0 и 1)\n",
    "matrix[::2, ::2] = 0\n",
    "matrix[1::2, 1::2] = 0\n",
    "matrix[::2, 1::2] = 1\n",
    "matrix[1::2, ::2] = 1\n",
    "\n",
    "print(matrix)\n"
   ]
  },
  {
   "cell_type": "code",
   "execution_count": 28,
   "metadata": {},
   "outputs": [
    {
     "name": "stdout",
     "output_type": "stream",
     "text": [
      "[1 2 3 4 0]\n"
     ]
    }
   ],
   "source": [
    "import numpy as np\n",
    "#Заменить максимальный элемент на ноль\n",
    "array = np.array([1, 2, 3, 4, 5])  # Массив\n",
    "\n",
    "max_index = np.argmax(array)  # Индекс максимального элемента\n",
    "array[max_index] = 0  # Замена максимального элемента на ноль\n",
    "\n",
    "print(array)\n"
   ]
  },
  {
   "cell_type": "code",
   "execution_count": 27,
   "metadata": {},
   "outputs": [
    {
     "name": "stdout",
     "output_type": "stream",
     "text": [
      "5\n"
     ]
    }
   ],
   "source": [
    "import numpy as np\n",
    "#Найти ближайшее к заданному значению число в заданном массиве\n",
    "array = np.array([1, 3, 5, 7, 9])  # Заданный массив\n",
    "value = 6  # Заданное значение\n",
    "\n",
    "diff = np.abs(array - value)  # Вычисление абсолютных значений разности\n",
    "closest_index = np.argmin(diff)  # Нахождение индекса элемента с минимальной разностью\n",
    "closest_value = array[closest_index]  # Получение ближайшего значения\n",
    "\n",
    "print(closest_value)\n",
    "\n"
   ]
  },
  {
   "cell_type": "code",
   "execution_count": 26,
   "metadata": {},
   "outputs": [
    {
     "name": "stdout",
     "output_type": "stream",
     "text": [
      "[[10 26]\n",
      " [42 58]]\n"
     ]
    }
   ],
   "source": [
    "import numpy as np\n",
    "#Дан четырехмерный массив, посчитать сумму по последним двум осям\n",
    "# Создание четырехмерного массива\n",
    "array = np.array([[[[1, 2], [3, 4]], [[5, 6], [7, 8]]],\n",
    "                  [[[9, 10], [11, 12]], [[13, 14], [15, 16]]]])\n",
    "\n",
    "# Расчет суммы по последним двум осям\n",
    "sum_last_two_axes = np.sum(array, axis=(2, 3))\n",
    "\n",
    "print(sum_last_two_axes)\n"
   ]
  },
  {
   "cell_type": "code",
   "execution_count": 10,
   "metadata": {},
   "outputs": [
    {
     "name": "stdout",
     "output_type": "stream",
     "text": [
      "В массиве есть нулевые столбцы.\n"
     ]
    }
   ],
   "source": [
    "import numpy as np\n",
    "#Определить, есть ли в двумерном массиве нулевые столбцы\n",
    "# Создание двумерного массива\n",
    "array = np.array([[1, 0, 3],\n",
    "                  [0, 0, 0],\n",
    "                  [4, 0, 6]])\n",
    "\n",
    "# Проверка наличия нулевых столбцов\n",
    "zero_columns = np.any(array == 0, axis=0)\n",
    "\n",
    "if np.any(zero_columns):\n",
    "    print(\"В массиве есть нулевые столбцы.\")\n",
    "else:\n",
    "    print(\"В массиве нет нулевых столбцов.\")\n"
   ]
  },
  {
   "cell_type": "code",
   "execution_count": 24,
   "metadata": {},
   "outputs": [
    {
     "name": "stdout",
     "output_type": "stream",
     "text": [
      "[[3.]\n",
      " [5.]\n",
      " [8.]]\n",
      "[[-2.  0.  2.]\n",
      " [-1.  0.  1.]\n",
      " [-1.  0.  1.]]\n"
     ]
    }
   ],
   "source": [
    "import numpy as np\n",
    "#\tОтнять среднее из каждой строки в матрице\n",
    "# Создание матрицы\n",
    "matrix = np.array([[1, 3, 5],\n",
    "                   [4, 5, 6],\n",
    "                   [7, 8, 9]])\n",
    "\n",
    "# Вычисление среднего значения каждой строки\n",
    "mean_row = np.mean(matrix, axis=1, keepdims=True)\n",
    "print(mean_row)\n",
    "# Отнимание среднего значения из каждой строки\n",
    "result_matrix = matrix - mean_row\n",
    "\n",
    "print(result_matrix)\n",
    "\n"
   ]
  },
  {
   "cell_type": "code",
   "execution_count": 21,
   "metadata": {},
   "outputs": [
    {
     "name": "stdout",
     "output_type": "stream",
     "text": [
      "[10 11 12 13 14 15 16 17 18 19 20 21 22 23 24 25 26 27 28 29 30 31 32 33\n",
      " 34 35 36 37 38 39 40 41 42 43 44 45 46 47 48 49 50]\n"
     ]
    }
   ],
   "source": [
    "import numpy as np\n",
    "# Создайте вектор с элементами от 10 до 50\n",
    "vector = np.arange(10, 51, 1)\n",
    "\n",
    "print(vector)"
   ]
  },
  {
   "cell_type": "code",
   "execution_count": 11,
   "metadata": {},
   "outputs": [
    {
     "name": "stdout",
     "output_type": "stream",
     "text": [
      "[[0 1 2 3 4]\n",
      " [5 6 0 1 2]\n",
      " [3 4 5 6 0]\n",
      " [1 2 3 4 5]\n",
      " [6 0 1 2 3]]\n"
     ]
    }
   ],
   "source": [
    "import numpy as np\n",
    "\n",
    "matrix = np.arange(0, 25).reshape(5, 5) % 7\n",
    "print(matrix)\n"
   ]
  },
  {
   "cell_type": "code",
   "execution_count": 20,
   "metadata": {},
   "outputs": [
    {
     "name": "stdout",
     "output_type": "stream",
     "text": [
      "[[0 7 4]\n",
      " [6 0 2]\n",
      " [5 9 3]\n",
      " [3 7 1]\n",
      " [4 8 3]]\n",
      "[[5 3]\n",
      " [6 0]\n",
      " [4 6]]\n",
      "[[58 24]\n",
      " [38 30]\n",
      " [91 33]\n",
      " [61 15]\n",
      " [80 30]]\n"
     ]
    }
   ],
   "source": [
    "import numpy as np\n",
    "#Умножьте матрицу размерности (5, 3) на (3, 2)\n",
    "# Создание матрицы размерности (5, 3)\n",
    "matrix1 = np.random.randint(0, 10, size=(5, 3))\n",
    "print(matrix1)\n",
    "# Создание матрицы размерности (3, 2)\n",
    "matrix2 = np.random.randint(0, 10, size=(3, 2))\n",
    "print(matrix2)\n",
    "# Умножение матриц\n",
    "result = np.matmul(matrix1, matrix2)\n",
    "\n",
    "print(result)\n"
   ]
  },
  {
   "cell_type": "code",
   "execution_count": 16,
   "metadata": {},
   "outputs": [
    {
     "name": "stdout",
     "output_type": "stream",
     "text": [
      "[[0. 0. 0. 0. 0. 0. 0. 0. 0. 0.]\n",
      " [0. 1. 1. 1. 1. 1. 1. 1. 1. 0.]\n",
      " [0. 1. 1. 1. 1. 1. 1. 1. 1. 0.]\n",
      " [0. 1. 1. 1. 1. 1. 1. 1. 1. 0.]\n",
      " [0. 1. 1. 1. 1. 1. 1. 1. 1. 0.]\n",
      " [0. 1. 1. 1. 1. 1. 1. 1. 1. 0.]\n",
      " [0. 1. 1. 1. 1. 1. 1. 1. 1. 0.]\n",
      " [0. 1. 1. 1. 1. 1. 1. 1. 1. 0.]\n",
      " [0. 1. 1. 1. 1. 1. 1. 1. 1. 0.]\n",
      " [0. 0. 0. 0. 0. 0. 0. 0. 0. 0.]]\n"
     ]
    }
   ],
   "source": [
    "import numpy as np\n",
    "\n",
    "# Создание матрицы (10, 10) и заполнение ее значениями 1\n",
    "matrix = np.zeros((10, 10))\n",
    "\n",
    "# Заполнение границ матрицы значениями 0\n",
    "matrix[1:-1, 1:-1] = 1\n",
    "\n",
    "print(matrix)\n"
   ]
  },
  {
   "cell_type": "code",
   "execution_count": null,
   "metadata": {},
   "outputs": [],
   "source": [
    "\n",
    "vector = [10, 15, 20, 25, 30]\n",
    "number = 22\n",
    "\n",
    "nearest_element = min(vector, key=lambda x: abs(x - number))\n",
    "print(nearest_element)\n",
    "\n",
    "\n",
    "\n"
   ]
  },
  {
   "cell_type": "code",
   "execution_count": 6,
   "metadata": {},
   "outputs": [
    {
     "name": "stdout",
     "output_type": "stream",
     "text": [
      "[[164.876  51.533 164.89  ... 102.52  144.693 108.359]\n",
      " [ 81.935 173.866 144.224 ...  94.753 162.575 193.71 ]\n",
      " [137.842  63.724 193.93  ...  41.198  84.518 102.726]\n",
      " ...\n",
      " [121.916  85.467  52.457 ...  92.099 117.672 124.158]\n",
      " [134.776 187.801 139.085 ...  90.466 156.515 168.232]\n",
      " [ 99.19  112.258 128.292 ... 219.258  46.344 161.29 ]]\n"
     ]
    }
   ],
   "source": [
    "import numpy as np\n",
    "\n",
    "# Создаем трехмерный массив размера (height, width, numChannels) со случайными значениями\n",
    "height, width, numChannels = 200, 300, 3\n",
    "image = np.random.randint(0, 256, size=(height, width, numChannels))\n",
    "\n",
    "# Вектор коэффициентов\n",
    "coefficients = np.array([0.299, 0.587, 0.114])\n",
    "\n",
    "# Умножаем трехмерный массив на вектор коэффициентов\n",
    "gray_image = np.dot(image, coefficients)\n",
    "\n",
    "# Выводим результат\n",
    "print(gray_image)\n"
   ]
  }
 ],
 "metadata": {
  "kernelspec": {
   "display_name": "Python 3",
   "language": "python",
   "name": "python3"
  },
  "language_info": {
   "codemirror_mode": {
    "name": "ipython",
    "version": 3
   },
   "file_extension": ".py",
   "mimetype": "text/x-python",
   "name": "python",
   "nbconvert_exporter": "python",
   "pygments_lexer": "ipython3",
   "version": "3.10.0"
  }
 },
 "nbformat": 4,
 "nbformat_minor": 2
}
