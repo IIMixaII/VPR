{
 "cells": [
  {
   "cell_type": "code",
   "execution_count": 1,
   "metadata": {},
   "outputs": [
    {
     "name": "stdout",
     "output_type": "stream",
     "text": [
      "0      0.000000\n",
      "1      1.428571\n",
      "2      2.857143\n",
      "3      4.285714\n",
      "4      5.714286\n",
      "5      7.142857\n",
      "6      8.571429\n",
      "7     10.000000\n",
      "8     11.428571\n",
      "9     12.857143\n",
      "10    14.285714\n",
      "11    15.714286\n",
      "12    17.142857\n",
      "13    18.571429\n",
      "14    20.000000\n",
      "dtype: float64\n"
     ]
    }
   ],
   "source": [
    "import pandas as pd\n",
    "import numpy as np\n",
    "\n",
    "values = np.linspace(0, 20, 15)\n",
    "series = pd.Series(values)\n",
    "print(series)"
   ]
  }
 ],
 "metadata": {
  "kernelspec": {
   "display_name": "Python 3",
   "language": "python",
   "name": "python3"
  },
  "language_info": {
   "codemirror_mode": {
    "name": "ipython",
    "version": 3
   },
   "file_extension": ".py",
   "mimetype": "text/x-python",
   "name": "python",
   "nbconvert_exporter": "python",
   "pygments_lexer": "ipython3",
   "version": "3.10.0"
  }
 },
 "nbformat": 4,
 "nbformat_minor": 2
}
