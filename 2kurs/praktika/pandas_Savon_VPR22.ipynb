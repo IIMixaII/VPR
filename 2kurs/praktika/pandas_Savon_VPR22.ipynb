{
  "cells": [
    {
      "cell_type": "markdown",
      "metadata": {
        "id": "x98icWnVCKFC"
      },
      "source": [
        "#### **Задание 1.**\n",
        "\n",
        "1. Создайте Series из последовательности 15 значений, равномерно разбивающих отрезок [0, 20] (воспользуйтесь функцией linspace)\n",
        "2. Определите отношение элементов полученной серии к их предыдущим элементам.\n",
        "3. В результате необходимо получить среднее полученного вектора, оставив в нём только те значения, которые не более чем 1.5.\n",
        "\n",
        "\n",
        "\n",
        "##### Пояснения:\n",
        "2. Если было бы необходимо найти последовательность из 3-х значений,  \n",
        "равномерно разбивающих отрезок [0,1], то это были бы значения [0, 0.5, 1].\n",
        "\n",
        "3. Если был бы дан список элементов a = [1,2,3,12], отношения элементов к предыдущим будут равны [NaN, 2, 1.5, 4]. А на последнем этапе в таком примере останется только [1.5] и среднее значение будет также 1.5."
      ]
    },
    {
      "cell_type": "code",
      "execution_count": 2,
      "metadata": {
        "colab": {
          "base_uri": "https://localhost:8080/"
        },
        "id": "vmyuAK1gB74P",
        "outputId": "f336e350-db91-419c-a2ac-625798fc81fa"
      },
      "outputs": [
        {
          "name": "stdout",
          "output_type": "stream",
          "text": [
            "0      0.000000\n",
            "1      1.428571\n",
            "2      2.857143\n",
            "3      4.285714\n",
            "4      5.714286\n",
            "5      7.142857\n",
            "6      8.571429\n",
            "7     10.000000\n",
            "8     11.428571\n",
            "9     12.857143\n",
            "10    14.285714\n",
            "11    15.714286\n",
            "12    17.142857\n",
            "13    18.571429\n",
            "14    20.000000\n",
            "dtype: float64\n",
            "0          NaN\n",
            "1          inf\n",
            "2     2.000000\n",
            "3     1.500000\n",
            "4     1.333333\n",
            "5     1.250000\n",
            "6     1.200000\n",
            "7     1.166667\n",
            "8     1.142857\n",
            "9     1.125000\n",
            "10    1.111111\n",
            "11    1.100000\n",
            "12    1.090909\n",
            "13    1.083333\n",
            "14    1.076923\n",
            "dtype: float64\n",
            "1.181677812927813\n"
          ]
        }
      ],
      "source": [
        "import pandas as pd\n",
        "import numpy as np\n",
        "\n",
        "s = pd.Series(np.linspace(0, 20, 15))\n",
        "print(s)\n",
        "\n",
        "s2 = s.divide(s.shift(1))\n",
        "print(s2)\n",
        "\n",
        "print(s2[s2 <= 1.5].mean())"
      ]
    },
    {
      "cell_type": "markdown",
      "metadata": {
        "id": "JW2XQ_EFGy-8"
      },
      "source": [
        "#### **Задание 2.**\n",
        "\n",
        "По клиенту получены зашумленные данные (объект s типа Series) по его транзакциям.\n",
        "\n",
        "Для заданного ниже объекта s проделайте следующее:\n",
        "1. Создайте новый Series, значения которого совпадают со значениями s, а индексы - целочисленные значения от 2 до 12, не включая 12.\n",
        "2. Выберите из s элементы с индексами 3 и 5, после чего просуммируйте их, сохранив результат.\n",
        "3. Выберите из s только целочисленные элементы и вычислите их дисперсию.\n",
        "\n",
        "Все полученные результаты округлите до 2-х знаков после запятой.\n",
        "\n",
        "##### Пояснения:\n",
        "3. Целочисленные значения - значения, имеющие тип int.\n",
        "- Дисперсия рассчитывается с помощью функции из библиотеки numpy: np.var( , ddof=0) или встроенной в python функции: .var(ddof=1)"
      ]
    },
    {
      "cell_type": "code",
      "execution_count": 3,
      "metadata": {
        "colab": {
          "base_uri": "https://localhost:8080/"
        },
        "id": "inYGE-IUG4K8",
        "outputId": "b9249885-a992-43a2-b026-818e477b2793"
      },
      "outputs": [
        {
          "name": "stdout",
          "output_type": "stream",
          "text": [
            "1. Новый Series:\n",
            " 2      1.23\n",
            "3      2.34\n",
            "4      3.45\n",
            "5      4.56\n",
            "6      5.67\n",
            "7      6.78\n",
            "8      7.89\n",
            "9      8.90\n",
            "10     9.01\n",
            "11    10.12\n",
            "dtype: float64\n",
            "2. Сумма элементов с индексами 3 и 5: 9.12\n",
            "3. Дисперсия целочисленных элементов: 8.35\n"
          ]
        }
      ],
      "source": [
        "s = pd.Series([1.23, 2.34, 3.45, 4.56, 5.67, 6.78, 7.89, 8.90, 9.01, 10.12], index=[1, 2, 3, 4, 5, 6, 7, 8, 9, 10])\n",
        "\n",
        "# 1\n",
        "s_new = pd.Series(s.values, index=range(2, 12))\n",
        "\n",
        "# 2\n",
        "sum_selected = s[[3, 5]].sum()\n",
        "\n",
        "# 3\n",
        "integer_values = s[s.index.astype(int) == s.index]\n",
        "variance_integer_values = np.var(integer_values, ddof=0)\n",
        "\n",
        "print(\"1. Новый Series:\\n\", s_new.round(2))\n",
        "print(\"2. Сумма элементов с индексами 3 и 5:\", round(sum_selected, 2))\n",
        "print(\"3. Дисперсия целочисленных элементов:\", round(variance_integer_values, 2))\n"
      ]
    },
    {
      "cell_type": "markdown",
      "metadata": {
        "id": "cPhs1sxxVz_7"
      },
      "source": [
        "#### **Задание 3.**\n",
        "1. Сгенерируйте Series из 100 значений нормально распределённой СВ (np.random.normal с дефолтными параметрами - нулевым средним и единичной дисперсией).\n",
        "2. Возведите каждое значение серии в 3 степень, а значения индекса увеличьте в 3 раза.\n",
        "3. Выведите сумму элементов, строго меньших 2.6, имеющих нечётные значения индекса.\n",
        "4. Выведите количество значений серии меньше нуля.\n",
        "\n",
        "#### Пояснения:\n",
        " - Следует внимательнее использовать [ ] для выбора данных по нескольким условиям: либо выбирать данные последовательно, либо сразу по нескольким условиям, но через оператор &. Отличие оператора and от оператора &: and - выводит последнее проверенное значение, & - выводит пересечение значений.\n",
        "Пример: s[ _  &  _ ].sum()"
      ]
    },
    {
      "cell_type": "code",
      "execution_count": 4,
      "metadata": {
        "colab": {
          "base_uri": "https://localhost:8080/"
        },
        "id": "F8ce17GrWVh0",
        "outputId": "3074b7ae-d7bf-47ed-96cc-4a6f14deff83"
      },
      "outputs": [
        {
          "name": "stdout",
          "output_type": "stream",
          "text": [
            "Сумма элементов < 2.6:  -34.60623872133333\n",
            "Меньше нуля:  51\n"
          ]
        }
      ],
      "source": [
        "np.random.seed(242)\n",
        "\n",
        "s = pd.Series(np.random.normal(size=100) ** 3, index=(x * 3 for x in range(0, 100)))\n",
        "print(\"Сумма элементов < 2.6: \", s[(x % 2 != 0 for x in s.index) and (s < 2.6)].sum())\n",
        "print(\"Меньше нуля: \", s[(s < 0)].count())"
      ]
    },
    {
      "cell_type": "markdown",
      "metadata": {
        "id": "bdkS5ajaasfB"
      },
      "source": [
        "#### **Задание 4.**\n",
        "1. В tr_types выберите произвольные 100 строк с помощью метода sample (указав при этом random_seed равный 242)\n",
        "2. В полученной на предыдущем этапе подвыборке найдите долю наблюдений (стобец tr_description), в которой содержится подстрока 'плата' (в любом регистре). (\\*)\n",
        "\n",
        "Выведите ответ в виде вещественного числа, округлённого до двух знаков после запятой, отделив дробную часть точкой в формате \"123.45\"\n",
        "\n",
        "##### Пояснения:\n",
        "(\\*) Строки \"ПлатА за аренду\", \"ПлатАза аренду\", \"ПЛАТА\" удовлетворяют условию, так как будучи переведёнными в нижний регистр содержат подстроку \"плата\"."
      ]
    },
    {
      "cell_type": "code",
      "execution_count": 6,
      "metadata": {
        "colab": {
          "base_uri": "https://localhost:8080/"
        },
        "id": "xt-0dpIgheop",
        "outputId": "01d72713-3ecc-4694-8e12-3c503eeea0c4"
      },
      "outputs": [
        {
          "name": "stdout",
          "output_type": "stream",
          "text": [
            "0.26\n"
          ]
        }
      ],
      "source": [
        "dataset_tr_types = pd.read_csv('tr_types.csv', delimiter=';')\n",
        "\n",
        "np.random.seed(242)\n",
        "\n",
        "\n",
        "s_tr_types = dataset_tr_types.sample(100)\n",
        "\n",
        "d = round(len(s_tr_types[s_tr_types['tr_description'].str.lower().str.contains('плата')])/len(s_tr_types), 2)\n",
        "print(d)"
      ]
    },
    {
      "cell_type": "markdown",
      "metadata": {
        "id": "bupDVuo_qMUc"
      },
      "source": [
        "#### **Задание 5.**\n",
        "1. Для поля tr_type датафрейма transactions посчитайте частоту встречаемости всех типов транзакций tr_type в transactions.\n",
        "2. Из перечисленных вариантов выберите те, которые попали в топ-5 транзакций по частоте встречаемости."
      ]
    },
    {
      "cell_type": "code",
      "execution_count": 5,
      "metadata": {
        "colab": {
          "base_uri": "https://localhost:8080/"
        },
        "id": "i4jmGeUQqcHc",
        "outputId": "2810fe22-b5ad-4f65-e6ee-81b63efad2fe"
      },
      "outputs": [
        {
          "name": "stdout",
          "output_type": "stream",
          "text": [
            "tr_type\n",
            "1010    1589734\n",
            "2010    1040713\n",
            "1030     970994\n",
            "1110     928154\n",
            "7070     691896\n",
            "Name: count, dtype: int64\n"
          ]
        }
      ],
      "source": [
        "dataset_transactions = pd.read_csv('transactions.csv')\n",
        "\n",
        "count = dataset_transactions['tr_type'].value_counts()\n",
        "\n",
        "print(count.iloc[range(0,5)])"
      ]
    },
    {
      "cell_type": "markdown",
      "metadata": {
        "id": "dGcy1zCN1Lnk"
      },
      "source": [
        "#### **Задание 6.**\n",
        "1. В датафрейме transactions задайте столбец  customer_id в качестве индекса.\n",
        "2. Выделите клиента с максимальной суммой транзакции (то есть с максимальным приходом на карту). (\\*)\n",
        "\n",
        "##### Пояснения:\n",
        "(\\*) Если у клиента были транзакции [-10000, 10, 0, -10], то максимумом будет являться значение 10. <br>"
      ]
    },
    {
      "cell_type": "code",
      "execution_count": 6,
      "metadata": {
        "colab": {
          "base_uri": "https://localhost:8080/"
        },
        "id": "vXYYZ6TI1TcV",
        "outputId": "536463ef-001e-49c6-8310-2bfad6030bce"
      },
      "outputs": [
        {
          "name": "stdout",
          "output_type": "stream",
          "text": [
            "26782922\n"
          ]
        }
      ],
      "source": [
        "dataset_transactions = pd.read_csv('transactions.csv')\n",
        "\n",
        "customer = dataset_transactions.set_index('customer_id')\n",
        "\n",
        "print(customer['amount'].idxmax())"
      ]
    },
    {
      "cell_type": "markdown",
      "metadata": {
        "id": "5AxZaWVb5dex"
      },
      "source": [
        "#### **Задание 7.**\n",
        "Соедините transactions с всеми остальными таблицами (tr_mcc_codes, tr_types, gender_train). Причём с customers_gender_train необходимо смёрджиться с помощью left join, а с оставшимися датафреймами - через inner.\n",
        "\n",
        "В результате соединения датафреймов должно получиться 999584 строки."
      ]
    },
    {
      "cell_type": "code",
      "execution_count": 9,
      "metadata": {
        "id": "Gq6NW24U5t47"
      },
      "outputs": [
        {
          "data": {
            "text/plain": [
              "(6846580, 9)"
            ]
          },
          "execution_count": 9,
          "metadata": {},
          "output_type": "execute_result"
        }
      ],
      "source": [
        "import pandas as pd\n",
        "\n",
        "# Загрузка данных\n",
        "transactions = pd.read_csv('transactions.csv')\n",
        "gender_train = pd.read_csv('gender_train.csv')\n",
        "tr_mcc_codes = pd.read_csv('tr_mcc_codes.csv', delimiter=';')\n",
        "tr_types = pd.read_csv('tr_types.csv', delimiter=';')\n",
        "\n",
        "# Производим left join с gender_train и inner join с остальными таблицами\n",
        "transactions = pd.merge(transactions, gender_train, on='customer_id', how='left')\n",
        "transactions = pd.merge(transactions, tr_mcc_codes, on='mcc_code', how='inner')\n",
        "transactions = pd.merge(transactions, tr_types, on='tr_type', how='inner')\n",
        "\n",
        "transactions.shape\n"
      ]
    },
    {
      "cell_type": "markdown",
      "metadata": {
        "id": "Qz4v1aN37mim"
      },
      "source": [
        "#### **Задание 8**\n",
        "Определите модуль разницы между средними тратами женщин и мужчин (трата - отрицательное значение amount). (*)\n",
        "\n",
        "Выведите ответ в виде вещественного числа, округлённого до двух знаков после запятой, отделив дробную часть точкой в формате \"123.45\"\n",
        "\n",
        "##### Пояснения:\n",
        "(*) Если в результате для мужчин получились значения [-1,-3,-5], а для женщин [-1,-2,-3], то модуль разницы между средними арифметическими -3 и -2 будет равен 1."
      ]
    },
    {
      "cell_type": "code",
      "execution_count": 8,
      "metadata": {
        "colab": {
          "base_uri": "https://localhost:8080/"
        },
        "id": "tynxM8fw7nUn",
        "outputId": "9297ce3f-7153-4950-ab73-679275117ff1"
      },
      "outputs": [
        {
          "name": "stdout",
          "output_type": "stream",
          "text": [
            "45740.67653822275\n"
          ]
        }
      ],
      "source": [
        "man_woman = transactions.set_index('gender')\n",
        "\n",
        "man = ((man_woman.loc[0.0 and man_woman['amount'] < 0])['amount'].sum()/(man_woman.loc[0.0 and man_woman['amount'] < 0])['amount'].count())\n",
        "woman = ((man_woman.loc[1.0 and man_woman['amount'] < 0])['amount'].sum()/(man_woman.loc[1.0 and man_woman['amount'] < 0])['amount'].count())\n",
        "\n",
        "print (abs(man - woman))"
      ]
    },
    {
      "cell_type": "markdown",
      "metadata": {
        "id": "UWNTuJX2F3ci"
      },
      "source": [
        "#### **Задание 9**\n",
        "\n",
        "1. Создайте новый столбец - mcc_code+tr_type, сконкатенировав значения из соответствующих столбцов. (*)\n",
        "2. Оставьте только наблюдения с отрицательным значением amount.\n",
        "\n",
        "##### Пояснения:\n",
        "(*) Для конкатенации значений в столбцах можно использовать метод .astype(str) для серии и складывать соответствующие серии.\n",
        "Либо же применять apply к строкам датафрейма, прописывая логику преобразования и конкатенации значений внутри."
      ]
    },
    {
      "cell_type": "code",
      "execution_count": 10,
      "metadata": {
        "colab": {
          "base_uri": "https://localhost:8080/"
        },
        "id": "W7SWQIDWF8qD",
        "outputId": "8ebac902-d608-4192-c150-8ef9ac9b1e4e"
      },
      "outputs": [
        {
          "name": "stdout",
          "output_type": "stream",
          "text": [
            "   customer_id tr_datetime  mcc_code  tr_type    amount term_id  \\\n",
            "0     39026145  0 10:23:26      4814     1030  -2245.92     NaN   \n",
            "2     39026145  1 10:20:56      4829     2330 -56147.89     NaN   \n",
            "3     39026145  1 10:39:54      5499     1010  -1392.47     NaN   \n",
            "4     39026145  2 15:33:42      5499     1010   -920.83     NaN   \n",
            "5     39026145  2 15:53:49      5541     1010 -14643.37     NaN   \n",
            "\n",
            "  mcc_code_tr_type  \n",
            "0         48141030  \n",
            "2         48292330  \n",
            "3         54991010  \n",
            "4         54991010  \n",
            "5         55411010  \n"
          ]
        }
      ],
      "source": [
        "transactions = pd.read_csv('transactions.csv')\n",
        "\n",
        "transactions['mcc_code_tr_type'] = transactions['mcc_code'].astype(str) + transactions['tr_type'].astype(str)\n",
        "\n",
        "print((transactions[transactions['amount'] < 0]).head())"
      ]
    }
  ],
  "metadata": {
    "colab": {
      "provenance": []
    },
    "kernelspec": {
      "display_name": "Python 3",
      "name": "python3"
    },
    "language_info": {
      "codemirror_mode": {
        "name": "ipython",
        "version": 3
      },
      "file_extension": ".py",
      "mimetype": "text/x-python",
      "name": "python",
      "nbconvert_exporter": "python",
      "pygments_lexer": "ipython3",
      "version": "3.10.0"
    }
  },
  "nbformat": 4,
  "nbformat_minor": 0
}
