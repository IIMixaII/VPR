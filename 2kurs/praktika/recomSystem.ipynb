{
  "cells": [
    {
      "cell_type": "code",
      "execution_count": 1,
      "metadata": {
        "id": "Avi8gxs6zfQ1"
      },
      "outputs": [],
      "source": [
        "import pandas as pd\n",
        "import numpy as np\n",
        "\n",
        "# модуль sparse библиотеки scipy понадобится для работы с разреженными матрицами \n",
        "from scipy.sparse import csr_matrix\n",
        "\n",
        "from sklearn.neighbors import NearestNeighbors\n",
        "\n",
        "animes = pd.read_csv('animes.csv')\n",
        "ratings = pd.read_csv('ratings.csv')"
      ]
    },
    {
      "cell_type": "code",
      "execution_count": 5,
      "metadata": {
        "colab": {
          "base_uri": "https://localhost:8080/",
          "height": 206
        },
        "id": "aYtmTR0q0Ll1",
        "outputId": "f025cb41-0441-47e1-99ea-86ed644659be"
      },
      "outputs": [
        {
          "data": {
            "text/html": [
              "<div>\n",
              "<style scoped>\n",
              "    .dataframe tbody tr th:only-of-type {\n",
              "        vertical-align: middle;\n",
              "    }\n",
              "\n",
              "    .dataframe tbody tr th {\n",
              "        vertical-align: top;\n",
              "    }\n",
              "\n",
              "    .dataframe thead th {\n",
              "        text-align: right;\n",
              "    }\n",
              "</style>\n",
              "<table border=\"1\" class=\"dataframe\">\n",
              "  <thead>\n",
              "    <tr style=\"text-align: right;\">\n",
              "      <th></th>\n",
              "      <th>anime_id</th>\n",
              "      <th>title</th>\n",
              "      <th>genres</th>\n",
              "      <th>media</th>\n",
              "      <th>episodes</th>\n",
              "      <th>rating</th>\n",
              "      <th>members</th>\n",
              "      <th>start_date</th>\n",
              "      <th>season</th>\n",
              "      <th>source</th>\n",
              "    </tr>\n",
              "  </thead>\n",
              "  <tbody>\n",
              "    <tr>\n",
              "      <th>0</th>\n",
              "      <td>1</td>\n",
              "      <td>Cowboy Bebop</td>\n",
              "      <td>Action,Adventure,Comedy,Drama,Sci-Fi,Space</td>\n",
              "      <td>tv</td>\n",
              "      <td>26</td>\n",
              "      <td>8.77</td>\n",
              "      <td>1324054.0</td>\n",
              "      <td>1998/4/3</td>\n",
              "      <td>spring_1998</td>\n",
              "      <td>original</td>\n",
              "    </tr>\n",
              "    <tr>\n",
              "      <th>1</th>\n",
              "      <td>5</td>\n",
              "      <td>Cowboy Bebop: Tengoku no Tobira</td>\n",
              "      <td>Action,Drama,Mystery,Sci-Fi,Space</td>\n",
              "      <td>movie</td>\n",
              "      <td>1</td>\n",
              "      <td>8.39</td>\n",
              "      <td>284827.0</td>\n",
              "      <td>2001/9/1</td>\n",
              "      <td>summer_2001</td>\n",
              "      <td>original</td>\n",
              "    </tr>\n",
              "    <tr>\n",
              "      <th>2</th>\n",
              "      <td>6</td>\n",
              "      <td>Trigun</td>\n",
              "      <td>Action,Sci-Fi,Adventure,Comedy,Drama,Shounen</td>\n",
              "      <td>tv</td>\n",
              "      <td>26</td>\n",
              "      <td>8.23</td>\n",
              "      <td>578887.0</td>\n",
              "      <td>1998/4/1</td>\n",
              "      <td>spring_1998</td>\n",
              "      <td>manga</td>\n",
              "    </tr>\n",
              "    <tr>\n",
              "      <th>3</th>\n",
              "      <td>7</td>\n",
              "      <td>Witch Hunter Robin</td>\n",
              "      <td>Action,Mystery,Police,Supernatural,Drama,Magic</td>\n",
              "      <td>tv</td>\n",
              "      <td>26</td>\n",
              "      <td>7.27</td>\n",
              "      <td>96487.0</td>\n",
              "      <td>2002/7/2</td>\n",
              "      <td>summer_2002</td>\n",
              "      <td>original</td>\n",
              "    </tr>\n",
              "    <tr>\n",
              "      <th>4</th>\n",
              "      <td>8</td>\n",
              "      <td>Bouken Ou Beet</td>\n",
              "      <td>Adventure,Fantasy,Shounen,Supernatural</td>\n",
              "      <td>tv</td>\n",
              "      <td>52</td>\n",
              "      <td>6.97</td>\n",
              "      <td>13450.0</td>\n",
              "      <td>2004/9/30</td>\n",
              "      <td>fall_2004</td>\n",
              "      <td>manga</td>\n",
              "    </tr>\n",
              "  </tbody>\n",
              "</table>\n",
              "</div>"
            ],
            "text/plain": [
              "   anime_id                            title  \\\n",
              "0         1                     Cowboy Bebop   \n",
              "1         5  Cowboy Bebop: Tengoku no Tobira   \n",
              "2         6                           Trigun   \n",
              "3         7               Witch Hunter Robin   \n",
              "4         8                   Bouken Ou Beet   \n",
              "\n",
              "                                           genres  media  episodes  rating  \\\n",
              "0      Action,Adventure,Comedy,Drama,Sci-Fi,Space     tv        26    8.77   \n",
              "1               Action,Drama,Mystery,Sci-Fi,Space  movie         1    8.39   \n",
              "2    Action,Sci-Fi,Adventure,Comedy,Drama,Shounen     tv        26    8.23   \n",
              "3  Action,Mystery,Police,Supernatural,Drama,Magic     tv        26    7.27   \n",
              "4          Adventure,Fantasy,Shounen,Supernatural     tv        52    6.97   \n",
              "\n",
              "     members start_date       season    source  \n",
              "0  1324054.0   1998/4/3  spring_1998  original  \n",
              "1   284827.0   2001/9/1  summer_2001  original  \n",
              "2   578887.0   1998/4/1  spring_1998     manga  \n",
              "3    96487.0   2002/7/2  summer_2002  original  \n",
              "4    13450.0  2004/9/30    fall_2004     manga  "
            ]
          },
          "execution_count": 5,
          "metadata": {},
          "output_type": "execute_result"
        }
      ],
      "source": [
        "animes.head(5) "
      ]
    },
    {
      "cell_type": "code",
      "execution_count": 6,
      "metadata": {
        "colab": {
          "base_uri": "https://localhost:8080/",
          "height": 206
        },
        "id": "s-ddlmro1TBT",
        "outputId": "6fc17fe1-b99c-4205-c870-b043f3afd62d"
      },
      "outputs": [
        {
          "data": {
            "text/html": [
              "<div>\n",
              "<style scoped>\n",
              "    .dataframe tbody tr th:only-of-type {\n",
              "        vertical-align: middle;\n",
              "    }\n",
              "\n",
              "    .dataframe tbody tr th {\n",
              "        vertical-align: top;\n",
              "    }\n",
              "\n",
              "    .dataframe thead th {\n",
              "        text-align: right;\n",
              "    }\n",
              "</style>\n",
              "<table border=\"1\" class=\"dataframe\">\n",
              "  <thead>\n",
              "    <tr style=\"text-align: right;\">\n",
              "      <th></th>\n",
              "      <th>user_id</th>\n",
              "      <th>anime_id</th>\n",
              "      <th>rating</th>\n",
              "    </tr>\n",
              "  </thead>\n",
              "  <tbody>\n",
              "    <tr>\n",
              "      <th>0</th>\n",
              "      <td>1</td>\n",
              "      <td>454</td>\n",
              "      <td>3</td>\n",
              "    </tr>\n",
              "    <tr>\n",
              "      <th>1</th>\n",
              "      <td>1</td>\n",
              "      <td>28761</td>\n",
              "      <td>8</td>\n",
              "    </tr>\n",
              "    <tr>\n",
              "      <th>2</th>\n",
              "      <td>1</td>\n",
              "      <td>6682</td>\n",
              "      <td>5</td>\n",
              "    </tr>\n",
              "    <tr>\n",
              "      <th>3</th>\n",
              "      <td>1</td>\n",
              "      <td>9624</td>\n",
              "      <td>6</td>\n",
              "    </tr>\n",
              "    <tr>\n",
              "      <th>4</th>\n",
              "      <td>1</td>\n",
              "      <td>38101</td>\n",
              "      <td>7</td>\n",
              "    </tr>\n",
              "  </tbody>\n",
              "</table>\n",
              "</div>"
            ],
            "text/plain": [
              "   user_id  anime_id  rating\n",
              "0        1       454       3\n",
              "1        1     28761       8\n",
              "2        1      6682       5\n",
              "3        1      9624       6\n",
              "4        1     38101       7"
            ]
          },
          "execution_count": 6,
          "metadata": {},
          "output_type": "execute_result"
        }
      ],
      "source": [
        "ratings.head(5)"
      ]
    },
    {
      "cell_type": "code",
      "execution_count": 7,
      "metadata": {
        "id": "meM3sevL0qBN"
      },
      "outputs": [],
      "source": [
        "#удаление столбца\n",
        "animes.drop(['genres','media','episodes','rating','members','start_date','season','source'], axis=1, inplace=True)"
      ]
    },
    {
      "cell_type": "markdown",
      "metadata": {
        "id": "KSSzmS0L1eS1"
      },
      "source": [
        "### Создание матрицы предпочтений"
      ]
    },
    {
      "cell_type": "code",
      "execution_count": 8,
      "metadata": {
        "colab": {
          "base_uri": "https://localhost:8080/",
          "height": 267
        },
        "id": "Do1Tp5Ud1-Hu",
        "outputId": "e023abfb-9987-4492-b4f1-ce5b0f4ab61b"
      },
      "outputs": [
        {
          "data": {
            "text/html": [
              "<div>\n",
              "<style scoped>\n",
              "    .dataframe tbody tr th:only-of-type {\n",
              "        vertical-align: middle;\n",
              "    }\n",
              "\n",
              "    .dataframe tbody tr th {\n",
              "        vertical-align: top;\n",
              "    }\n",
              "\n",
              "    .dataframe thead th {\n",
              "        text-align: right;\n",
              "    }\n",
              "</style>\n",
              "<table border=\"1\" class=\"dataframe\">\n",
              "  <thead>\n",
              "    <tr style=\"text-align: right;\">\n",
              "      <th>user_id</th>\n",
              "      <th>1</th>\n",
              "      <th>2</th>\n",
              "      <th>3</th>\n",
              "      <th>4</th>\n",
              "      <th>5</th>\n",
              "      <th>6</th>\n",
              "      <th>7</th>\n",
              "      <th>8</th>\n",
              "      <th>10</th>\n",
              "      <th>11</th>\n",
              "      <th>...</th>\n",
              "      <th>108013</th>\n",
              "      <th>108014</th>\n",
              "      <th>108015</th>\n",
              "      <th>108017</th>\n",
              "      <th>108018</th>\n",
              "      <th>108019</th>\n",
              "      <th>108020</th>\n",
              "      <th>108021</th>\n",
              "      <th>108023</th>\n",
              "      <th>108024</th>\n",
              "    </tr>\n",
              "    <tr>\n",
              "      <th>anime_id</th>\n",
              "      <th></th>\n",
              "      <th></th>\n",
              "      <th></th>\n",
              "      <th></th>\n",
              "      <th></th>\n",
              "      <th></th>\n",
              "      <th></th>\n",
              "      <th></th>\n",
              "      <th></th>\n",
              "      <th></th>\n",
              "      <th></th>\n",
              "      <th></th>\n",
              "      <th></th>\n",
              "      <th></th>\n",
              "      <th></th>\n",
              "      <th></th>\n",
              "      <th></th>\n",
              "      <th></th>\n",
              "      <th></th>\n",
              "      <th></th>\n",
              "      <th></th>\n",
              "    </tr>\n",
              "  </thead>\n",
              "  <tbody>\n",
              "    <tr>\n",
              "      <th>1</th>\n",
              "      <td>NaN</td>\n",
              "      <td>NaN</td>\n",
              "      <td>9.0</td>\n",
              "      <td>NaN</td>\n",
              "      <td>10.0</td>\n",
              "      <td>NaN</td>\n",
              "      <td>9.0</td>\n",
              "      <td>NaN</td>\n",
              "      <td>0.0</td>\n",
              "      <td>10.0</td>\n",
              "      <td>...</td>\n",
              "      <td>NaN</td>\n",
              "      <td>NaN</td>\n",
              "      <td>8.0</td>\n",
              "      <td>9.0</td>\n",
              "      <td>NaN</td>\n",
              "      <td>NaN</td>\n",
              "      <td>10.0</td>\n",
              "      <td>NaN</td>\n",
              "      <td>10.0</td>\n",
              "      <td>NaN</td>\n",
              "    </tr>\n",
              "    <tr>\n",
              "      <th>5</th>\n",
              "      <td>NaN</td>\n",
              "      <td>8.0</td>\n",
              "      <td>NaN</td>\n",
              "      <td>NaN</td>\n",
              "      <td>10.0</td>\n",
              "      <td>NaN</td>\n",
              "      <td>9.0</td>\n",
              "      <td>NaN</td>\n",
              "      <td>NaN</td>\n",
              "      <td>NaN</td>\n",
              "      <td>...</td>\n",
              "      <td>NaN</td>\n",
              "      <td>NaN</td>\n",
              "      <td>NaN</td>\n",
              "      <td>8.0</td>\n",
              "      <td>NaN</td>\n",
              "      <td>NaN</td>\n",
              "      <td>0.0</td>\n",
              "      <td>NaN</td>\n",
              "      <td>10.0</td>\n",
              "      <td>NaN</td>\n",
              "    </tr>\n",
              "    <tr>\n",
              "      <th>6</th>\n",
              "      <td>NaN</td>\n",
              "      <td>NaN</td>\n",
              "      <td>NaN</td>\n",
              "      <td>NaN</td>\n",
              "      <td>NaN</td>\n",
              "      <td>NaN</td>\n",
              "      <td>8.0</td>\n",
              "      <td>NaN</td>\n",
              "      <td>NaN</td>\n",
              "      <td>9.0</td>\n",
              "      <td>...</td>\n",
              "      <td>NaN</td>\n",
              "      <td>NaN</td>\n",
              "      <td>9.0</td>\n",
              "      <td>8.0</td>\n",
              "      <td>NaN</td>\n",
              "      <td>NaN</td>\n",
              "      <td>8.0</td>\n",
              "      <td>NaN</td>\n",
              "      <td>10.0</td>\n",
              "      <td>NaN</td>\n",
              "    </tr>\n",
              "    <tr>\n",
              "      <th>7</th>\n",
              "      <td>NaN</td>\n",
              "      <td>8.0</td>\n",
              "      <td>NaN</td>\n",
              "      <td>NaN</td>\n",
              "      <td>NaN</td>\n",
              "      <td>NaN</td>\n",
              "      <td>NaN</td>\n",
              "      <td>NaN</td>\n",
              "      <td>NaN</td>\n",
              "      <td>NaN</td>\n",
              "      <td>...</td>\n",
              "      <td>NaN</td>\n",
              "      <td>NaN</td>\n",
              "      <td>7.0</td>\n",
              "      <td>NaN</td>\n",
              "      <td>NaN</td>\n",
              "      <td>NaN</td>\n",
              "      <td>0.0</td>\n",
              "      <td>NaN</td>\n",
              "      <td>NaN</td>\n",
              "      <td>NaN</td>\n",
              "    </tr>\n",
              "    <tr>\n",
              "      <th>8</th>\n",
              "      <td>NaN</td>\n",
              "      <td>NaN</td>\n",
              "      <td>NaN</td>\n",
              "      <td>NaN</td>\n",
              "      <td>NaN</td>\n",
              "      <td>NaN</td>\n",
              "      <td>NaN</td>\n",
              "      <td>NaN</td>\n",
              "      <td>NaN</td>\n",
              "      <td>NaN</td>\n",
              "      <td>...</td>\n",
              "      <td>NaN</td>\n",
              "      <td>NaN</td>\n",
              "      <td>NaN</td>\n",
              "      <td>NaN</td>\n",
              "      <td>NaN</td>\n",
              "      <td>NaN</td>\n",
              "      <td>NaN</td>\n",
              "      <td>NaN</td>\n",
              "      <td>NaN</td>\n",
              "      <td>NaN</td>\n",
              "    </tr>\n",
              "  </tbody>\n",
              "</table>\n",
              "<p>5 rows × 86954 columns</p>\n",
              "</div>"
            ],
            "text/plain": [
              "user_id   1       2       3       4       5       6       7       8       \\\n",
              "anime_id                                                                   \n",
              "1            NaN     NaN     9.0     NaN    10.0     NaN     9.0     NaN   \n",
              "5            NaN     8.0     NaN     NaN    10.0     NaN     9.0     NaN   \n",
              "6            NaN     NaN     NaN     NaN     NaN     NaN     8.0     NaN   \n",
              "7            NaN     8.0     NaN     NaN     NaN     NaN     NaN     NaN   \n",
              "8            NaN     NaN     NaN     NaN     NaN     NaN     NaN     NaN   \n",
              "\n",
              "user_id   10      11      ...  108013  108014  108015  108017  108018  108019  \\\n",
              "anime_id                  ...                                                   \n",
              "1            0.0    10.0  ...     NaN     NaN     8.0     9.0     NaN     NaN   \n",
              "5            NaN     NaN  ...     NaN     NaN     NaN     8.0     NaN     NaN   \n",
              "6            NaN     9.0  ...     NaN     NaN     9.0     8.0     NaN     NaN   \n",
              "7            NaN     NaN  ...     NaN     NaN     7.0     NaN     NaN     NaN   \n",
              "8            NaN     NaN  ...     NaN     NaN     NaN     NaN     NaN     NaN   \n",
              "\n",
              "user_id   108020  108021  108023  108024  \n",
              "anime_id                                  \n",
              "1           10.0     NaN    10.0     NaN  \n",
              "5            0.0     NaN    10.0     NaN  \n",
              "6            8.0     NaN    10.0     NaN  \n",
              "7            0.0     NaN     NaN     NaN  \n",
              "8            NaN     NaN     NaN     NaN  \n",
              "\n",
              "[5 rows x 86954 columns]"
            ]
          },
          "execution_count": 8,
          "metadata": {},
          "output_type": "execute_result"
        }
      ],
      "source": [
        "# по горизонтали будут фильмы, по вертикали - пользователи, значения - оценки\n",
        "user_item_matrix = ratings.pivot(index = 'anime_id', columns = 'user_id', values = 'rating')\n",
        "user_item_matrix.head()"
      ]
    },
    {
      "cell_type": "code",
      "execution_count": 9,
      "metadata": {
        "colab": {
          "base_uri": "https://localhost:8080/",
          "height": 284
        },
        "id": "Yz1nGtNu2Tfq",
        "outputId": "20085d14-b857-4262-995b-c52bd6732520"
      },
      "outputs": [
        {
          "name": "stdout",
          "output_type": "stream",
          "text": [
            "(12043, 86954)\n"
          ]
        },
        {
          "data": {
            "text/html": [
              "<div>\n",
              "<style scoped>\n",
              "    .dataframe tbody tr th:only-of-type {\n",
              "        vertical-align: middle;\n",
              "    }\n",
              "\n",
              "    .dataframe tbody tr th {\n",
              "        vertical-align: top;\n",
              "    }\n",
              "\n",
              "    .dataframe thead th {\n",
              "        text-align: right;\n",
              "    }\n",
              "</style>\n",
              "<table border=\"1\" class=\"dataframe\">\n",
              "  <thead>\n",
              "    <tr style=\"text-align: right;\">\n",
              "      <th>user_id</th>\n",
              "      <th>1</th>\n",
              "      <th>2</th>\n",
              "      <th>3</th>\n",
              "      <th>4</th>\n",
              "      <th>5</th>\n",
              "      <th>6</th>\n",
              "      <th>7</th>\n",
              "      <th>8</th>\n",
              "      <th>10</th>\n",
              "      <th>11</th>\n",
              "      <th>...</th>\n",
              "      <th>108013</th>\n",
              "      <th>108014</th>\n",
              "      <th>108015</th>\n",
              "      <th>108017</th>\n",
              "      <th>108018</th>\n",
              "      <th>108019</th>\n",
              "      <th>108020</th>\n",
              "      <th>108021</th>\n",
              "      <th>108023</th>\n",
              "      <th>108024</th>\n",
              "    </tr>\n",
              "    <tr>\n",
              "      <th>anime_id</th>\n",
              "      <th></th>\n",
              "      <th></th>\n",
              "      <th></th>\n",
              "      <th></th>\n",
              "      <th></th>\n",
              "      <th></th>\n",
              "      <th></th>\n",
              "      <th></th>\n",
              "      <th></th>\n",
              "      <th></th>\n",
              "      <th></th>\n",
              "      <th></th>\n",
              "      <th></th>\n",
              "      <th></th>\n",
              "      <th></th>\n",
              "      <th></th>\n",
              "      <th></th>\n",
              "      <th></th>\n",
              "      <th></th>\n",
              "      <th></th>\n",
              "      <th></th>\n",
              "    </tr>\n",
              "  </thead>\n",
              "  <tbody>\n",
              "    <tr>\n",
              "      <th>1</th>\n",
              "      <td>0.0</td>\n",
              "      <td>0.0</td>\n",
              "      <td>9.0</td>\n",
              "      <td>0.0</td>\n",
              "      <td>10.0</td>\n",
              "      <td>0.0</td>\n",
              "      <td>9.0</td>\n",
              "      <td>0.0</td>\n",
              "      <td>0.0</td>\n",
              "      <td>10.0</td>\n",
              "      <td>...</td>\n",
              "      <td>0.0</td>\n",
              "      <td>0.0</td>\n",
              "      <td>8.0</td>\n",
              "      <td>9.0</td>\n",
              "      <td>0.0</td>\n",
              "      <td>0.0</td>\n",
              "      <td>10.0</td>\n",
              "      <td>0.0</td>\n",
              "      <td>10.0</td>\n",
              "      <td>0.0</td>\n",
              "    </tr>\n",
              "    <tr>\n",
              "      <th>5</th>\n",
              "      <td>0.0</td>\n",
              "      <td>8.0</td>\n",
              "      <td>0.0</td>\n",
              "      <td>0.0</td>\n",
              "      <td>10.0</td>\n",
              "      <td>0.0</td>\n",
              "      <td>9.0</td>\n",
              "      <td>0.0</td>\n",
              "      <td>0.0</td>\n",
              "      <td>0.0</td>\n",
              "      <td>...</td>\n",
              "      <td>0.0</td>\n",
              "      <td>0.0</td>\n",
              "      <td>0.0</td>\n",
              "      <td>8.0</td>\n",
              "      <td>0.0</td>\n",
              "      <td>0.0</td>\n",
              "      <td>0.0</td>\n",
              "      <td>0.0</td>\n",
              "      <td>10.0</td>\n",
              "      <td>0.0</td>\n",
              "    </tr>\n",
              "    <tr>\n",
              "      <th>6</th>\n",
              "      <td>0.0</td>\n",
              "      <td>0.0</td>\n",
              "      <td>0.0</td>\n",
              "      <td>0.0</td>\n",
              "      <td>0.0</td>\n",
              "      <td>0.0</td>\n",
              "      <td>8.0</td>\n",
              "      <td>0.0</td>\n",
              "      <td>0.0</td>\n",
              "      <td>9.0</td>\n",
              "      <td>...</td>\n",
              "      <td>0.0</td>\n",
              "      <td>0.0</td>\n",
              "      <td>9.0</td>\n",
              "      <td>8.0</td>\n",
              "      <td>0.0</td>\n",
              "      <td>0.0</td>\n",
              "      <td>8.0</td>\n",
              "      <td>0.0</td>\n",
              "      <td>10.0</td>\n",
              "      <td>0.0</td>\n",
              "    </tr>\n",
              "    <tr>\n",
              "      <th>7</th>\n",
              "      <td>0.0</td>\n",
              "      <td>8.0</td>\n",
              "      <td>0.0</td>\n",
              "      <td>0.0</td>\n",
              "      <td>0.0</td>\n",
              "      <td>0.0</td>\n",
              "      <td>0.0</td>\n",
              "      <td>0.0</td>\n",
              "      <td>0.0</td>\n",
              "      <td>0.0</td>\n",
              "      <td>...</td>\n",
              "      <td>0.0</td>\n",
              "      <td>0.0</td>\n",
              "      <td>7.0</td>\n",
              "      <td>0.0</td>\n",
              "      <td>0.0</td>\n",
              "      <td>0.0</td>\n",
              "      <td>0.0</td>\n",
              "      <td>0.0</td>\n",
              "      <td>0.0</td>\n",
              "      <td>0.0</td>\n",
              "    </tr>\n",
              "    <tr>\n",
              "      <th>8</th>\n",
              "      <td>0.0</td>\n",
              "      <td>0.0</td>\n",
              "      <td>0.0</td>\n",
              "      <td>0.0</td>\n",
              "      <td>0.0</td>\n",
              "      <td>0.0</td>\n",
              "      <td>0.0</td>\n",
              "      <td>0.0</td>\n",
              "      <td>0.0</td>\n",
              "      <td>0.0</td>\n",
              "      <td>...</td>\n",
              "      <td>0.0</td>\n",
              "      <td>0.0</td>\n",
              "      <td>0.0</td>\n",
              "      <td>0.0</td>\n",
              "      <td>0.0</td>\n",
              "      <td>0.0</td>\n",
              "      <td>0.0</td>\n",
              "      <td>0.0</td>\n",
              "      <td>0.0</td>\n",
              "      <td>0.0</td>\n",
              "    </tr>\n",
              "  </tbody>\n",
              "</table>\n",
              "<p>5 rows × 86954 columns</p>\n",
              "</div>"
            ],
            "text/plain": [
              "user_id   1       2       3       4       5       6       7       8       \\\n",
              "anime_id                                                                   \n",
              "1            0.0     0.0     9.0     0.0    10.0     0.0     9.0     0.0   \n",
              "5            0.0     8.0     0.0     0.0    10.0     0.0     9.0     0.0   \n",
              "6            0.0     0.0     0.0     0.0     0.0     0.0     8.0     0.0   \n",
              "7            0.0     8.0     0.0     0.0     0.0     0.0     0.0     0.0   \n",
              "8            0.0     0.0     0.0     0.0     0.0     0.0     0.0     0.0   \n",
              "\n",
              "user_id   10      11      ...  108013  108014  108015  108017  108018  108019  \\\n",
              "anime_id                  ...                                                   \n",
              "1            0.0    10.0  ...     0.0     0.0     8.0     9.0     0.0     0.0   \n",
              "5            0.0     0.0  ...     0.0     0.0     0.0     8.0     0.0     0.0   \n",
              "6            0.0     9.0  ...     0.0     0.0     9.0     8.0     0.0     0.0   \n",
              "7            0.0     0.0  ...     0.0     0.0     7.0     0.0     0.0     0.0   \n",
              "8            0.0     0.0  ...     0.0     0.0     0.0     0.0     0.0     0.0   \n",
              "\n",
              "user_id   108020  108021  108023  108024  \n",
              "anime_id                                  \n",
              "1           10.0     0.0    10.0     0.0  \n",
              "5            0.0     0.0    10.0     0.0  \n",
              "6            8.0     0.0    10.0     0.0  \n",
              "7            0.0     0.0     0.0     0.0  \n",
              "8            0.0     0.0     0.0     0.0  \n",
              "\n",
              "[5 rows x 86954 columns]"
            ]
          },
          "execution_count": 9,
          "metadata": {},
          "output_type": "execute_result"
        }
      ],
      "source": [
        "#замена пропущенных значений \n",
        "user_item_matrix.fillna(0, inplace = True)\n",
        "print(user_item_matrix.shape)\n",
        "user_item_matrix.head()\n"
      ]
    },
    {
      "cell_type": "markdown",
      "metadata": {
        "id": "um8iQuA02j2Y"
      },
      "source": [
        "**Чистка матрицы**"
      ]
    },
    {
      "cell_type": "code",
      "execution_count": 10,
      "metadata": {
        "colab": {
          "base_uri": "https://localhost:8080/",
          "height": 284
        },
        "id": "SkuIZ1m72_vH",
        "outputId": "3b444d17-4558-4067-c555-3558d3f74c00"
      },
      "outputs": [
        {
          "ename": "MemoryError",
          "evalue": "Unable to allocate 5.45 GiB for an array with shape (8413, 86954) and data type float64",
          "output_type": "error",
          "traceback": [
            "\u001b[1;31m---------------------------------------------------------------------------\u001b[0m",
            "\u001b[1;31mMemoryError\u001b[0m                               Traceback (most recent call last)",
            "Cell \u001b[1;32mIn[10], line 13\u001b[0m\n\u001b[0;32m     10\u001b[0m anime_mask \u001b[38;5;241m=\u001b[39m animes_votes[animes_votes \u001b[38;5;241m>\u001b[39m \u001b[38;5;241m10\u001b[39m]\u001b[38;5;241m.\u001b[39mindex\n\u001b[0;32m     12\u001b[0m \u001b[38;5;66;03m# применим фильтры и отберем фильмы с достаточным количеством оценок\u001b[39;00m\n\u001b[1;32m---> 13\u001b[0m user_item_matrix \u001b[38;5;241m=\u001b[39m \u001b[43muser_item_matrix\u001b[49m\u001b[38;5;241;43m.\u001b[39;49m\u001b[43mloc\u001b[49m\u001b[43m[\u001b[49m\u001b[43manime_mask\u001b[49m\u001b[43m,\u001b[49m\u001b[43m:\u001b[49m\u001b[43m]\u001b[49m\n\u001b[0;32m     15\u001b[0m \u001b[38;5;66;03m# а также активных пользователей\u001b[39;00m\n\u001b[0;32m     16\u001b[0m user_item_matrix \u001b[38;5;241m=\u001b[39m user_item_matrix\u001b[38;5;241m.\u001b[39mloc[:,user_mask]\n",
            "File \u001b[1;32mc:\\Users\\cools\\AppData\\Local\\Programs\\Python\\Python310\\lib\\site-packages\\pandas\\core\\indexing.py:1147\u001b[0m, in \u001b[0;36m_LocationIndexer.__getitem__\u001b[1;34m(self, key)\u001b[0m\n\u001b[0;32m   1145\u001b[0m     \u001b[38;5;28;01mif\u001b[39;00m \u001b[38;5;28mself\u001b[39m\u001b[38;5;241m.\u001b[39m_is_scalar_access(key):\n\u001b[0;32m   1146\u001b[0m         \u001b[38;5;28;01mreturn\u001b[39;00m \u001b[38;5;28mself\u001b[39m\u001b[38;5;241m.\u001b[39mobj\u001b[38;5;241m.\u001b[39m_get_value(\u001b[38;5;241m*\u001b[39mkey, takeable\u001b[38;5;241m=\u001b[39m\u001b[38;5;28mself\u001b[39m\u001b[38;5;241m.\u001b[39m_takeable)\n\u001b[1;32m-> 1147\u001b[0m     \u001b[38;5;28;01mreturn\u001b[39;00m \u001b[38;5;28;43mself\u001b[39;49m\u001b[38;5;241;43m.\u001b[39;49m\u001b[43m_getitem_tuple\u001b[49m\u001b[43m(\u001b[49m\u001b[43mkey\u001b[49m\u001b[43m)\u001b[49m\n\u001b[0;32m   1148\u001b[0m \u001b[38;5;28;01melse\u001b[39;00m:\n\u001b[0;32m   1149\u001b[0m     \u001b[38;5;66;03m# we by definition only have the 0th axis\u001b[39;00m\n\u001b[0;32m   1150\u001b[0m     axis \u001b[38;5;241m=\u001b[39m \u001b[38;5;28mself\u001b[39m\u001b[38;5;241m.\u001b[39maxis \u001b[38;5;129;01mor\u001b[39;00m \u001b[38;5;241m0\u001b[39m\n",
            "File \u001b[1;32mc:\\Users\\cools\\AppData\\Local\\Programs\\Python\\Python310\\lib\\site-packages\\pandas\\core\\indexing.py:1339\u001b[0m, in \u001b[0;36m_LocIndexer._getitem_tuple\u001b[1;34m(self, tup)\u001b[0m\n\u001b[0;32m   1336\u001b[0m \u001b[38;5;28;01mif\u001b[39;00m \u001b[38;5;28mself\u001b[39m\u001b[38;5;241m.\u001b[39m_multi_take_opportunity(tup):\n\u001b[0;32m   1337\u001b[0m     \u001b[38;5;28;01mreturn\u001b[39;00m \u001b[38;5;28mself\u001b[39m\u001b[38;5;241m.\u001b[39m_multi_take(tup)\n\u001b[1;32m-> 1339\u001b[0m \u001b[38;5;28;01mreturn\u001b[39;00m \u001b[38;5;28;43mself\u001b[39;49m\u001b[38;5;241;43m.\u001b[39;49m\u001b[43m_getitem_tuple_same_dim\u001b[49m\u001b[43m(\u001b[49m\u001b[43mtup\u001b[49m\u001b[43m)\u001b[49m\n",
            "File \u001b[1;32mc:\\Users\\cools\\AppData\\Local\\Programs\\Python\\Python310\\lib\\site-packages\\pandas\\core\\indexing.py:994\u001b[0m, in \u001b[0;36m_LocationIndexer._getitem_tuple_same_dim\u001b[1;34m(self, tup)\u001b[0m\n\u001b[0;32m    991\u001b[0m \u001b[38;5;28;01mif\u001b[39;00m com\u001b[38;5;241m.\u001b[39mis_null_slice(key):\n\u001b[0;32m    992\u001b[0m     \u001b[38;5;28;01mcontinue\u001b[39;00m\n\u001b[1;32m--> 994\u001b[0m retval \u001b[38;5;241m=\u001b[39m \u001b[38;5;28;43mgetattr\u001b[39;49m\u001b[43m(\u001b[49m\u001b[43mretval\u001b[49m\u001b[43m,\u001b[49m\u001b[43m \u001b[49m\u001b[38;5;28;43mself\u001b[39;49m\u001b[38;5;241;43m.\u001b[39;49m\u001b[43mname\u001b[49m\u001b[43m)\u001b[49m\u001b[38;5;241;43m.\u001b[39;49m\u001b[43m_getitem_axis\u001b[49m\u001b[43m(\u001b[49m\u001b[43mkey\u001b[49m\u001b[43m,\u001b[49m\u001b[43m \u001b[49m\u001b[43maxis\u001b[49m\u001b[38;5;241;43m=\u001b[39;49m\u001b[43mi\u001b[49m\u001b[43m)\u001b[49m\n\u001b[0;32m    995\u001b[0m \u001b[38;5;66;03m# We should never have retval.ndim < self.ndim, as that should\u001b[39;00m\n\u001b[0;32m    996\u001b[0m \u001b[38;5;66;03m#  be handled by the _getitem_lowerdim call above.\u001b[39;00m\n\u001b[0;32m    997\u001b[0m \u001b[38;5;28;01massert\u001b[39;00m retval\u001b[38;5;241m.\u001b[39mndim \u001b[38;5;241m==\u001b[39m \u001b[38;5;28mself\u001b[39m\u001b[38;5;241m.\u001b[39mndim\n",
            "File \u001b[1;32mc:\\Users\\cools\\AppData\\Local\\Programs\\Python\\Python310\\lib\\site-packages\\pandas\\core\\indexing.py:1382\u001b[0m, in \u001b[0;36m_LocIndexer._getitem_axis\u001b[1;34m(self, key, axis)\u001b[0m\n\u001b[0;32m   1379\u001b[0m     \u001b[38;5;28;01mif\u001b[39;00m \u001b[38;5;28mhasattr\u001b[39m(key, \u001b[38;5;124m\"\u001b[39m\u001b[38;5;124mndim\u001b[39m\u001b[38;5;124m\"\u001b[39m) \u001b[38;5;129;01mand\u001b[39;00m key\u001b[38;5;241m.\u001b[39mndim \u001b[38;5;241m>\u001b[39m \u001b[38;5;241m1\u001b[39m:\n\u001b[0;32m   1380\u001b[0m         \u001b[38;5;28;01mraise\u001b[39;00m \u001b[38;5;167;01mValueError\u001b[39;00m(\u001b[38;5;124m\"\u001b[39m\u001b[38;5;124mCannot index with multidimensional key\u001b[39m\u001b[38;5;124m\"\u001b[39m)\n\u001b[1;32m-> 1382\u001b[0m     \u001b[38;5;28;01mreturn\u001b[39;00m \u001b[38;5;28;43mself\u001b[39;49m\u001b[38;5;241;43m.\u001b[39;49m\u001b[43m_getitem_iterable\u001b[49m\u001b[43m(\u001b[49m\u001b[43mkey\u001b[49m\u001b[43m,\u001b[49m\u001b[43m \u001b[49m\u001b[43maxis\u001b[49m\u001b[38;5;241;43m=\u001b[39;49m\u001b[43maxis\u001b[49m\u001b[43m)\u001b[49m\n\u001b[0;32m   1384\u001b[0m \u001b[38;5;66;03m# nested tuple slicing\u001b[39;00m\n\u001b[0;32m   1385\u001b[0m \u001b[38;5;28;01mif\u001b[39;00m is_nested_tuple(key, labels):\n",
            "File \u001b[1;32mc:\\Users\\cools\\AppData\\Local\\Programs\\Python\\Python310\\lib\\site-packages\\pandas\\core\\indexing.py:1323\u001b[0m, in \u001b[0;36m_LocIndexer._getitem_iterable\u001b[1;34m(self, key, axis)\u001b[0m\n\u001b[0;32m   1321\u001b[0m \u001b[38;5;66;03m# A collection of keys\u001b[39;00m\n\u001b[0;32m   1322\u001b[0m keyarr, indexer \u001b[38;5;241m=\u001b[39m \u001b[38;5;28mself\u001b[39m\u001b[38;5;241m.\u001b[39m_get_listlike_indexer(key, axis)\n\u001b[1;32m-> 1323\u001b[0m \u001b[38;5;28;01mreturn\u001b[39;00m \u001b[38;5;28;43mself\u001b[39;49m\u001b[38;5;241;43m.\u001b[39;49m\u001b[43mobj\u001b[49m\u001b[38;5;241;43m.\u001b[39;49m\u001b[43m_reindex_with_indexers\u001b[49m\u001b[43m(\u001b[49m\n\u001b[0;32m   1324\u001b[0m \u001b[43m    \u001b[49m\u001b[43m{\u001b[49m\u001b[43maxis\u001b[49m\u001b[43m:\u001b[49m\u001b[43m \u001b[49m\u001b[43m[\u001b[49m\u001b[43mkeyarr\u001b[49m\u001b[43m,\u001b[49m\u001b[43m \u001b[49m\u001b[43mindexer\u001b[49m\u001b[43m]\u001b[49m\u001b[43m}\u001b[49m\u001b[43m,\u001b[49m\u001b[43m \u001b[49m\u001b[43mcopy\u001b[49m\u001b[38;5;241;43m=\u001b[39;49m\u001b[38;5;28;43;01mTrue\u001b[39;49;00m\u001b[43m,\u001b[49m\u001b[43m \u001b[49m\u001b[43mallow_dups\u001b[49m\u001b[38;5;241;43m=\u001b[39;49m\u001b[38;5;28;43;01mTrue\u001b[39;49;00m\n\u001b[0;32m   1325\u001b[0m \u001b[43m\u001b[49m\u001b[43m)\u001b[49m\n",
            "File \u001b[1;32mc:\\Users\\cools\\AppData\\Local\\Programs\\Python\\Python310\\lib\\site-packages\\pandas\\core\\generic.py:5597\u001b[0m, in \u001b[0;36mNDFrame._reindex_with_indexers\u001b[1;34m(self, reindexers, fill_value, copy, allow_dups)\u001b[0m\n\u001b[0;32m   5594\u001b[0m     indexer \u001b[38;5;241m=\u001b[39m ensure_platform_int(indexer)\n\u001b[0;32m   5596\u001b[0m \u001b[38;5;66;03m# TODO: speed up on homogeneous DataFrame objects (see _reindex_multi)\u001b[39;00m\n\u001b[1;32m-> 5597\u001b[0m new_data \u001b[38;5;241m=\u001b[39m \u001b[43mnew_data\u001b[49m\u001b[38;5;241;43m.\u001b[39;49m\u001b[43mreindex_indexer\u001b[49m\u001b[43m(\u001b[49m\n\u001b[0;32m   5598\u001b[0m \u001b[43m    \u001b[49m\u001b[43mindex\u001b[49m\u001b[43m,\u001b[49m\n\u001b[0;32m   5599\u001b[0m \u001b[43m    \u001b[49m\u001b[43mindexer\u001b[49m\u001b[43m,\u001b[49m\n\u001b[0;32m   5600\u001b[0m \u001b[43m    \u001b[49m\u001b[43maxis\u001b[49m\u001b[38;5;241;43m=\u001b[39;49m\u001b[43mbaxis\u001b[49m\u001b[43m,\u001b[49m\n\u001b[0;32m   5601\u001b[0m \u001b[43m    \u001b[49m\u001b[43mfill_value\u001b[49m\u001b[38;5;241;43m=\u001b[39;49m\u001b[43mfill_value\u001b[49m\u001b[43m,\u001b[49m\n\u001b[0;32m   5602\u001b[0m \u001b[43m    \u001b[49m\u001b[43mallow_dups\u001b[49m\u001b[38;5;241;43m=\u001b[39;49m\u001b[43mallow_dups\u001b[49m\u001b[43m,\u001b[49m\n\u001b[0;32m   5603\u001b[0m \u001b[43m    \u001b[49m\u001b[43mcopy\u001b[49m\u001b[38;5;241;43m=\u001b[39;49m\u001b[43mcopy\u001b[49m\u001b[43m,\u001b[49m\n\u001b[0;32m   5604\u001b[0m \u001b[43m\u001b[49m\u001b[43m)\u001b[49m\n\u001b[0;32m   5605\u001b[0m \u001b[38;5;66;03m# If we've made a copy once, no need to make another one\u001b[39;00m\n\u001b[0;32m   5606\u001b[0m copy \u001b[38;5;241m=\u001b[39m \u001b[38;5;28;01mFalse\u001b[39;00m\n",
            "File \u001b[1;32mc:\\Users\\cools\\AppData\\Local\\Programs\\Python\\Python310\\lib\\site-packages\\pandas\\core\\internals\\managers.py:670\u001b[0m, in \u001b[0;36mBaseBlockManager.reindex_indexer\u001b[1;34m(self, new_axis, indexer, axis, fill_value, allow_dups, copy, only_slice, use_na_proxy)\u001b[0m\n\u001b[0;32m    663\u001b[0m     new_blocks \u001b[38;5;241m=\u001b[39m \u001b[38;5;28mself\u001b[39m\u001b[38;5;241m.\u001b[39m_slice_take_blocks_ax0(\n\u001b[0;32m    664\u001b[0m         indexer,\n\u001b[0;32m    665\u001b[0m         fill_value\u001b[38;5;241m=\u001b[39mfill_value,\n\u001b[0;32m    666\u001b[0m         only_slice\u001b[38;5;241m=\u001b[39monly_slice,\n\u001b[0;32m    667\u001b[0m         use_na_proxy\u001b[38;5;241m=\u001b[39muse_na_proxy,\n\u001b[0;32m    668\u001b[0m     )\n\u001b[0;32m    669\u001b[0m \u001b[38;5;28;01melse\u001b[39;00m:\n\u001b[1;32m--> 670\u001b[0m     new_blocks \u001b[38;5;241m=\u001b[39m [\n\u001b[0;32m    671\u001b[0m         blk\u001b[38;5;241m.\u001b[39mtake_nd(\n\u001b[0;32m    672\u001b[0m             indexer,\n\u001b[0;32m    673\u001b[0m             axis\u001b[38;5;241m=\u001b[39m\u001b[38;5;241m1\u001b[39m,\n\u001b[0;32m    674\u001b[0m             fill_value\u001b[38;5;241m=\u001b[39m(\n\u001b[0;32m    675\u001b[0m                 fill_value \u001b[38;5;28;01mif\u001b[39;00m fill_value \u001b[38;5;129;01mis\u001b[39;00m \u001b[38;5;129;01mnot\u001b[39;00m \u001b[38;5;28;01mNone\u001b[39;00m \u001b[38;5;28;01melse\u001b[39;00m blk\u001b[38;5;241m.\u001b[39mfill_value\n\u001b[0;32m    676\u001b[0m             ),\n\u001b[0;32m    677\u001b[0m         )\n\u001b[0;32m    678\u001b[0m         \u001b[38;5;28;01mfor\u001b[39;00m blk \u001b[38;5;129;01min\u001b[39;00m \u001b[38;5;28mself\u001b[39m\u001b[38;5;241m.\u001b[39mblocks\n\u001b[0;32m    679\u001b[0m     ]\n\u001b[0;32m    681\u001b[0m new_axes \u001b[38;5;241m=\u001b[39m \u001b[38;5;28mlist\u001b[39m(\u001b[38;5;28mself\u001b[39m\u001b[38;5;241m.\u001b[39maxes)\n\u001b[0;32m    682\u001b[0m new_axes[axis] \u001b[38;5;241m=\u001b[39m new_axis\n",
            "File \u001b[1;32mc:\\Users\\cools\\AppData\\Local\\Programs\\Python\\Python310\\lib\\site-packages\\pandas\\core\\internals\\managers.py:671\u001b[0m, in \u001b[0;36m<listcomp>\u001b[1;34m(.0)\u001b[0m\n\u001b[0;32m    663\u001b[0m     new_blocks \u001b[38;5;241m=\u001b[39m \u001b[38;5;28mself\u001b[39m\u001b[38;5;241m.\u001b[39m_slice_take_blocks_ax0(\n\u001b[0;32m    664\u001b[0m         indexer,\n\u001b[0;32m    665\u001b[0m         fill_value\u001b[38;5;241m=\u001b[39mfill_value,\n\u001b[0;32m    666\u001b[0m         only_slice\u001b[38;5;241m=\u001b[39monly_slice,\n\u001b[0;32m    667\u001b[0m         use_na_proxy\u001b[38;5;241m=\u001b[39muse_na_proxy,\n\u001b[0;32m    668\u001b[0m     )\n\u001b[0;32m    669\u001b[0m \u001b[38;5;28;01melse\u001b[39;00m:\n\u001b[0;32m    670\u001b[0m     new_blocks \u001b[38;5;241m=\u001b[39m [\n\u001b[1;32m--> 671\u001b[0m         \u001b[43mblk\u001b[49m\u001b[38;5;241;43m.\u001b[39;49m\u001b[43mtake_nd\u001b[49m\u001b[43m(\u001b[49m\n\u001b[0;32m    672\u001b[0m \u001b[43m            \u001b[49m\u001b[43mindexer\u001b[49m\u001b[43m,\u001b[49m\n\u001b[0;32m    673\u001b[0m \u001b[43m            \u001b[49m\u001b[43maxis\u001b[49m\u001b[38;5;241;43m=\u001b[39;49m\u001b[38;5;241;43m1\u001b[39;49m\u001b[43m,\u001b[49m\n\u001b[0;32m    674\u001b[0m \u001b[43m            \u001b[49m\u001b[43mfill_value\u001b[49m\u001b[38;5;241;43m=\u001b[39;49m\u001b[43m(\u001b[49m\n\u001b[0;32m    675\u001b[0m \u001b[43m                \u001b[49m\u001b[43mfill_value\u001b[49m\u001b[43m \u001b[49m\u001b[38;5;28;43;01mif\u001b[39;49;00m\u001b[43m \u001b[49m\u001b[43mfill_value\u001b[49m\u001b[43m \u001b[49m\u001b[38;5;129;43;01mis\u001b[39;49;00m\u001b[43m \u001b[49m\u001b[38;5;129;43;01mnot\u001b[39;49;00m\u001b[43m \u001b[49m\u001b[38;5;28;43;01mNone\u001b[39;49;00m\u001b[43m \u001b[49m\u001b[38;5;28;43;01melse\u001b[39;49;00m\u001b[43m \u001b[49m\u001b[43mblk\u001b[49m\u001b[38;5;241;43m.\u001b[39;49m\u001b[43mfill_value\u001b[49m\n\u001b[0;32m    676\u001b[0m \u001b[43m            \u001b[49m\u001b[43m)\u001b[49m\u001b[43m,\u001b[49m\n\u001b[0;32m    677\u001b[0m \u001b[43m        \u001b[49m\u001b[43m)\u001b[49m\n\u001b[0;32m    678\u001b[0m         \u001b[38;5;28;01mfor\u001b[39;00m blk \u001b[38;5;129;01min\u001b[39;00m \u001b[38;5;28mself\u001b[39m\u001b[38;5;241m.\u001b[39mblocks\n\u001b[0;32m    679\u001b[0m     ]\n\u001b[0;32m    681\u001b[0m new_axes \u001b[38;5;241m=\u001b[39m \u001b[38;5;28mlist\u001b[39m(\u001b[38;5;28mself\u001b[39m\u001b[38;5;241m.\u001b[39maxes)\n\u001b[0;32m    682\u001b[0m new_axes[axis] \u001b[38;5;241m=\u001b[39m new_axis\n",
            "File \u001b[1;32mc:\\Users\\cools\\AppData\\Local\\Programs\\Python\\Python310\\lib\\site-packages\\pandas\\core\\internals\\blocks.py:1061\u001b[0m, in \u001b[0;36mBlock.take_nd\u001b[1;34m(self, indexer, axis, new_mgr_locs, fill_value)\u001b[0m\n\u001b[0;32m   1058\u001b[0m     allow_fill \u001b[38;5;241m=\u001b[39m \u001b[38;5;28;01mTrue\u001b[39;00m\n\u001b[0;32m   1060\u001b[0m \u001b[38;5;66;03m# Note: algos.take_nd has upcast logic similar to coerce_to_target_dtype\u001b[39;00m\n\u001b[1;32m-> 1061\u001b[0m new_values \u001b[38;5;241m=\u001b[39m \u001b[43malgos\u001b[49m\u001b[38;5;241;43m.\u001b[39;49m\u001b[43mtake_nd\u001b[49m\u001b[43m(\u001b[49m\n\u001b[0;32m   1062\u001b[0m \u001b[43m    \u001b[49m\u001b[43mvalues\u001b[49m\u001b[43m,\u001b[49m\u001b[43m \u001b[49m\u001b[43mindexer\u001b[49m\u001b[43m,\u001b[49m\u001b[43m \u001b[49m\u001b[43maxis\u001b[49m\u001b[38;5;241;43m=\u001b[39;49m\u001b[43maxis\u001b[49m\u001b[43m,\u001b[49m\u001b[43m \u001b[49m\u001b[43mallow_fill\u001b[49m\u001b[38;5;241;43m=\u001b[39;49m\u001b[43mallow_fill\u001b[49m\u001b[43m,\u001b[49m\u001b[43m \u001b[49m\u001b[43mfill_value\u001b[49m\u001b[38;5;241;43m=\u001b[39;49m\u001b[43mfill_value\u001b[49m\n\u001b[0;32m   1063\u001b[0m \u001b[43m\u001b[49m\u001b[43m)\u001b[49m\n\u001b[0;32m   1065\u001b[0m \u001b[38;5;66;03m# Called from three places in managers, all of which satisfy\u001b[39;00m\n\u001b[0;32m   1066\u001b[0m \u001b[38;5;66;03m#  these assertions\u001b[39;00m\n\u001b[0;32m   1067\u001b[0m \u001b[38;5;28;01mif\u001b[39;00m \u001b[38;5;28misinstance\u001b[39m(\u001b[38;5;28mself\u001b[39m, ExtensionBlock):\n\u001b[0;32m   1068\u001b[0m     \u001b[38;5;66;03m# NB: in this case, the 'axis' kwarg will be ignored in the\u001b[39;00m\n\u001b[0;32m   1069\u001b[0m     \u001b[38;5;66;03m#  algos.take_nd call above.\u001b[39;00m\n",
            "File \u001b[1;32mc:\\Users\\cools\\AppData\\Local\\Programs\\Python\\Python310\\lib\\site-packages\\pandas\\core\\array_algos\\take.py:118\u001b[0m, in \u001b[0;36mtake_nd\u001b[1;34m(arr, indexer, axis, fill_value, allow_fill)\u001b[0m\n\u001b[0;32m    115\u001b[0m     \u001b[38;5;28;01mreturn\u001b[39;00m arr\u001b[38;5;241m.\u001b[39mtake(indexer, fill_value\u001b[38;5;241m=\u001b[39mfill_value, allow_fill\u001b[38;5;241m=\u001b[39mallow_fill)\n\u001b[0;32m    117\u001b[0m arr \u001b[38;5;241m=\u001b[39m np\u001b[38;5;241m.\u001b[39masarray(arr)\n\u001b[1;32m--> 118\u001b[0m \u001b[38;5;28;01mreturn\u001b[39;00m \u001b[43m_take_nd_ndarray\u001b[49m\u001b[43m(\u001b[49m\u001b[43marr\u001b[49m\u001b[43m,\u001b[49m\u001b[43m \u001b[49m\u001b[43mindexer\u001b[49m\u001b[43m,\u001b[49m\u001b[43m \u001b[49m\u001b[43maxis\u001b[49m\u001b[43m,\u001b[49m\u001b[43m \u001b[49m\u001b[43mfill_value\u001b[49m\u001b[43m,\u001b[49m\u001b[43m \u001b[49m\u001b[43mallow_fill\u001b[49m\u001b[43m)\u001b[49m\n",
            "File \u001b[1;32mc:\\Users\\cools\\AppData\\Local\\Programs\\Python\\Python310\\lib\\site-packages\\pandas\\core\\array_algos\\take.py:158\u001b[0m, in \u001b[0;36m_take_nd_ndarray\u001b[1;34m(arr, indexer, axis, fill_value, allow_fill)\u001b[0m\n\u001b[0;32m    156\u001b[0m     out \u001b[38;5;241m=\u001b[39m np\u001b[38;5;241m.\u001b[39mempty(out_shape, dtype\u001b[38;5;241m=\u001b[39mdtype, order\u001b[38;5;241m=\u001b[39m\u001b[38;5;124m\"\u001b[39m\u001b[38;5;124mF\u001b[39m\u001b[38;5;124m\"\u001b[39m)\n\u001b[0;32m    157\u001b[0m \u001b[38;5;28;01melse\u001b[39;00m:\n\u001b[1;32m--> 158\u001b[0m     out \u001b[38;5;241m=\u001b[39m \u001b[43mnp\u001b[49m\u001b[38;5;241;43m.\u001b[39;49m\u001b[43mempty\u001b[49m\u001b[43m(\u001b[49m\u001b[43mout_shape\u001b[49m\u001b[43m,\u001b[49m\u001b[43m \u001b[49m\u001b[43mdtype\u001b[49m\u001b[38;5;241;43m=\u001b[39;49m\u001b[43mdtype\u001b[49m\u001b[43m)\u001b[49m\n\u001b[0;32m    160\u001b[0m func \u001b[38;5;241m=\u001b[39m _get_take_nd_function(\n\u001b[0;32m    161\u001b[0m     arr\u001b[38;5;241m.\u001b[39mndim, arr\u001b[38;5;241m.\u001b[39mdtype, out\u001b[38;5;241m.\u001b[39mdtype, axis\u001b[38;5;241m=\u001b[39maxis, mask_info\u001b[38;5;241m=\u001b[39mmask_info\n\u001b[0;32m    162\u001b[0m )\n\u001b[0;32m    163\u001b[0m func(arr, indexer, out, fill_value)\n",
            "\u001b[1;31mMemoryError\u001b[0m: Unable to allocate 5.45 GiB for an array with shape (8413, 86954) and data type float64"
          ]
        }
      ],
      "source": [
        "# вначале сгруппируем (объединим) пользователей, возьмем только столбец rating \n",
        "# и посчитаем, сколько было оценок у каждого пользователя\n",
        "users_votes = ratings.groupby('user_id')['rating'].agg('count')\n",
        " \n",
        "# сделаем то же самое, только для фильма\n",
        "animes_votes = ratings.groupby('anime_id')['rating'].agg('count')\n",
        " \n",
        "# теперь создадим фильтр (mask)\n",
        "user_mask = users_votes[users_votes > 50].index\n",
        "anime_mask = animes_votes[animes_votes > 10].index\n",
        " \n",
        "# применим фильтры и отберем фильмы с достаточным количеством оценок\n",
        "user_item_matrix = user_item_matrix.loc[anime_mask,:]\n",
        " \n",
        "# а также активных пользователей\n",
        "user_item_matrix = user_item_matrix.loc[:,user_mask]"
      ]
    },
    {
      "cell_type": "markdown",
      "metadata": {
        "id": "rivoLegb3282"
      },
      "source": [
        "### Преобразование разреженной матрицы\n",
        "Преобразование данных матрицы в формат сжатого хранения строкой "
      ]
    },
    {
      "cell_type": "markdown",
      "metadata": {},
      "source": [
        "user_item_matrix.shape\n",
        "user_item_matrix.head()"
      ]
    },
    {
      "cell_type": "code",
      "execution_count": 11,
      "metadata": {
        "colab": {
          "base_uri": "https://localhost:8080/"
        },
        "id": "SPxccIJ34LRM",
        "outputId": "62cbbf47-5610-4c2f-e509-4dd79f46eaf7"
      },
      "outputs": [
        {
          "ename": "MemoryError",
          "evalue": "Unable to allocate 7.80 GiB for an array with shape (86954, 12043) and data type float64",
          "output_type": "error",
          "traceback": [
            "\u001b[1;31m---------------------------------------------------------------------------\u001b[0m",
            "\u001b[1;31mMemoryError\u001b[0m                               Traceback (most recent call last)",
            "Cell \u001b[1;32mIn[11], line 3\u001b[0m\n\u001b[0;32m      1\u001b[0m \u001b[38;5;66;03m# атрибут values передаст функции csr_matrix только значения датафрейма\u001b[39;00m\n\u001b[0;32m      2\u001b[0m csr_data \u001b[38;5;241m=\u001b[39m csr_matrix(user_item_matrix\u001b[38;5;241m.\u001b[39mvalues)\n\u001b[1;32m----> 3\u001b[0m user_item_matrix \u001b[38;5;241m=\u001b[39m \u001b[43muser_item_matrix\u001b[49m\u001b[38;5;241;43m.\u001b[39;49m\u001b[43mrename_axis\u001b[49m\u001b[43m(\u001b[49m\u001b[38;5;28;43;01mNone\u001b[39;49;00m\u001b[43m,\u001b[49m\u001b[43m \u001b[49m\u001b[43maxis\u001b[49m\u001b[43m \u001b[49m\u001b[38;5;241;43m=\u001b[39;49m\u001b[43m \u001b[49m\u001b[38;5;241;43m1\u001b[39;49m\u001b[43m)\u001b[49m\u001b[38;5;241m.\u001b[39mreset_index()\n",
            "File \u001b[1;32mc:\\Users\\cools\\AppData\\Local\\Programs\\Python\\Python310\\lib\\site-packages\\pandas\\core\\generic.py:1284\u001b[0m, in \u001b[0;36mNDFrame.rename_axis\u001b[1;34m(self, mapper, index, columns, axis, copy, inplace)\u001b[0m\n\u001b[0;32m   1280\u001b[0m non_mapper \u001b[38;5;241m=\u001b[39m is_scalar(mapper) \u001b[38;5;129;01mor\u001b[39;00m (\n\u001b[0;32m   1281\u001b[0m     is_list_like(mapper) \u001b[38;5;129;01mand\u001b[39;00m \u001b[38;5;129;01mnot\u001b[39;00m is_dict_like(mapper)\n\u001b[0;32m   1282\u001b[0m )\n\u001b[0;32m   1283\u001b[0m \u001b[38;5;28;01mif\u001b[39;00m non_mapper:\n\u001b[1;32m-> 1284\u001b[0m     \u001b[38;5;28;01mreturn\u001b[39;00m \u001b[38;5;28;43mself\u001b[39;49m\u001b[38;5;241;43m.\u001b[39;49m\u001b[43m_set_axis_name\u001b[49m\u001b[43m(\u001b[49m\n\u001b[0;32m   1285\u001b[0m \u001b[43m        \u001b[49m\u001b[43mmapper\u001b[49m\u001b[43m,\u001b[49m\u001b[43m \u001b[49m\u001b[43maxis\u001b[49m\u001b[38;5;241;43m=\u001b[39;49m\u001b[43maxis\u001b[49m\u001b[43m,\u001b[49m\u001b[43m \u001b[49m\u001b[43minplace\u001b[49m\u001b[38;5;241;43m=\u001b[39;49m\u001b[43minplace\u001b[49m\u001b[43m,\u001b[49m\u001b[43m \u001b[49m\u001b[43mcopy\u001b[49m\u001b[38;5;241;43m=\u001b[39;49m\u001b[43mcopy\u001b[49m\n\u001b[0;32m   1286\u001b[0m \u001b[43m    \u001b[49m\u001b[43m)\u001b[49m\n\u001b[0;32m   1287\u001b[0m \u001b[38;5;28;01melse\u001b[39;00m:\n\u001b[0;32m   1288\u001b[0m     \u001b[38;5;28;01mraise\u001b[39;00m \u001b[38;5;167;01mValueError\u001b[39;00m(\u001b[38;5;124m\"\u001b[39m\u001b[38;5;124mUse `.rename` to alter labels with a mapper.\u001b[39m\u001b[38;5;124m\"\u001b[39m)\n",
            "File \u001b[1;32mc:\\Users\\cools\\AppData\\Local\\Programs\\Python\\Python310\\lib\\site-packages\\pandas\\core\\generic.py:1369\u001b[0m, in \u001b[0;36mNDFrame._set_axis_name\u001b[1;34m(self, name, axis, inplace, copy)\u001b[0m\n\u001b[0;32m   1366\u001b[0m idx \u001b[38;5;241m=\u001b[39m \u001b[38;5;28mself\u001b[39m\u001b[38;5;241m.\u001b[39m_get_axis(axis)\u001b[38;5;241m.\u001b[39mset_names(name)\n\u001b[0;32m   1368\u001b[0m inplace \u001b[38;5;241m=\u001b[39m validate_bool_kwarg(inplace, \u001b[38;5;124m\"\u001b[39m\u001b[38;5;124minplace\u001b[39m\u001b[38;5;124m\"\u001b[39m)\n\u001b[1;32m-> 1369\u001b[0m renamed \u001b[38;5;241m=\u001b[39m \u001b[38;5;28mself\u001b[39m \u001b[38;5;28;01mif\u001b[39;00m inplace \u001b[38;5;28;01melse\u001b[39;00m \u001b[38;5;28;43mself\u001b[39;49m\u001b[38;5;241;43m.\u001b[39;49m\u001b[43mcopy\u001b[49m\u001b[43m(\u001b[49m\u001b[43mdeep\u001b[49m\u001b[38;5;241;43m=\u001b[39;49m\u001b[43mcopy\u001b[49m\u001b[43m)\u001b[49m\n\u001b[0;32m   1370\u001b[0m \u001b[38;5;28;01mif\u001b[39;00m axis \u001b[38;5;241m==\u001b[39m \u001b[38;5;241m0\u001b[39m:\n\u001b[0;32m   1371\u001b[0m     renamed\u001b[38;5;241m.\u001b[39mindex \u001b[38;5;241m=\u001b[39m idx\n",
            "File \u001b[1;32mc:\\Users\\cools\\AppData\\Local\\Programs\\Python\\Python310\\lib\\site-packages\\pandas\\core\\generic.py:6685\u001b[0m, in \u001b[0;36mNDFrame.copy\u001b[1;34m(self, deep)\u001b[0m\n\u001b[0;32m   6553\u001b[0m \u001b[38;5;129m@final\u001b[39m\n\u001b[0;32m   6554\u001b[0m \u001b[38;5;28;01mdef\u001b[39;00m \u001b[38;5;21mcopy\u001b[39m(\u001b[38;5;28mself\u001b[39m, deep: bool_t \u001b[38;5;241m|\u001b[39m \u001b[38;5;28;01mNone\u001b[39;00m \u001b[38;5;241m=\u001b[39m \u001b[38;5;28;01mTrue\u001b[39;00m) \u001b[38;5;241m-\u001b[39m\u001b[38;5;241m>\u001b[39m Self:\n\u001b[0;32m   6555\u001b[0m \u001b[38;5;250m    \u001b[39m\u001b[38;5;124;03m\"\"\"\u001b[39;00m\n\u001b[0;32m   6556\u001b[0m \u001b[38;5;124;03m    Make a copy of this object's indices and data.\u001b[39;00m\n\u001b[0;32m   6557\u001b[0m \n\u001b[1;32m   (...)\u001b[0m\n\u001b[0;32m   6683\u001b[0m \u001b[38;5;124;03m    dtype: int64\u001b[39;00m\n\u001b[0;32m   6684\u001b[0m \u001b[38;5;124;03m    \"\"\"\u001b[39;00m\n\u001b[1;32m-> 6685\u001b[0m     data \u001b[38;5;241m=\u001b[39m \u001b[38;5;28;43mself\u001b[39;49m\u001b[38;5;241;43m.\u001b[39;49m\u001b[43m_mgr\u001b[49m\u001b[38;5;241;43m.\u001b[39;49m\u001b[43mcopy\u001b[49m\u001b[43m(\u001b[49m\u001b[43mdeep\u001b[49m\u001b[38;5;241;43m=\u001b[39;49m\u001b[43mdeep\u001b[49m\u001b[43m)\u001b[49m\n\u001b[0;32m   6686\u001b[0m     \u001b[38;5;28mself\u001b[39m\u001b[38;5;241m.\u001b[39m_clear_item_cache()\n\u001b[0;32m   6687\u001b[0m     \u001b[38;5;28;01mreturn\u001b[39;00m \u001b[38;5;28mself\u001b[39m\u001b[38;5;241m.\u001b[39m_constructor_from_mgr(data, axes\u001b[38;5;241m=\u001b[39mdata\u001b[38;5;241m.\u001b[39maxes)\u001b[38;5;241m.\u001b[39m__finalize__(\n\u001b[0;32m   6688\u001b[0m         \u001b[38;5;28mself\u001b[39m, method\u001b[38;5;241m=\u001b[39m\u001b[38;5;124m\"\u001b[39m\u001b[38;5;124mcopy\u001b[39m\u001b[38;5;124m\"\u001b[39m\n\u001b[0;32m   6689\u001b[0m     )\n",
            "File \u001b[1;32mc:\\Users\\cools\\AppData\\Local\\Programs\\Python\\Python310\\lib\\site-packages\\pandas\\core\\internals\\managers.py:576\u001b[0m, in \u001b[0;36mBaseBlockManager.copy\u001b[1;34m(self, deep)\u001b[0m\n\u001b[0;32m    573\u001b[0m     \u001b[38;5;28;01melse\u001b[39;00m:\n\u001b[0;32m    574\u001b[0m         new_axes \u001b[38;5;241m=\u001b[39m \u001b[38;5;28mlist\u001b[39m(\u001b[38;5;28mself\u001b[39m\u001b[38;5;241m.\u001b[39maxes)\n\u001b[1;32m--> 576\u001b[0m res \u001b[38;5;241m=\u001b[39m \u001b[38;5;28;43mself\u001b[39;49m\u001b[38;5;241;43m.\u001b[39;49m\u001b[43mapply\u001b[49m\u001b[43m(\u001b[49m\u001b[38;5;124;43m\"\u001b[39;49m\u001b[38;5;124;43mcopy\u001b[39;49m\u001b[38;5;124;43m\"\u001b[39;49m\u001b[43m,\u001b[49m\u001b[43m \u001b[49m\u001b[43mdeep\u001b[49m\u001b[38;5;241;43m=\u001b[39;49m\u001b[43mdeep\u001b[49m\u001b[43m)\u001b[49m\n\u001b[0;32m    577\u001b[0m res\u001b[38;5;241m.\u001b[39maxes \u001b[38;5;241m=\u001b[39m new_axes\n\u001b[0;32m    579\u001b[0m \u001b[38;5;28;01mif\u001b[39;00m \u001b[38;5;28mself\u001b[39m\u001b[38;5;241m.\u001b[39mndim \u001b[38;5;241m>\u001b[39m \u001b[38;5;241m1\u001b[39m:\n\u001b[0;32m    580\u001b[0m     \u001b[38;5;66;03m# Avoid needing to re-compute these\u001b[39;00m\n",
            "File \u001b[1;32mc:\\Users\\cools\\AppData\\Local\\Programs\\Python\\Python310\\lib\\site-packages\\pandas\\core\\internals\\managers.py:354\u001b[0m, in \u001b[0;36mBaseBlockManager.apply\u001b[1;34m(self, f, align_keys, **kwargs)\u001b[0m\n\u001b[0;32m    352\u001b[0m         applied \u001b[38;5;241m=\u001b[39m b\u001b[38;5;241m.\u001b[39mapply(f, \u001b[38;5;241m*\u001b[39m\u001b[38;5;241m*\u001b[39mkwargs)\n\u001b[0;32m    353\u001b[0m     \u001b[38;5;28;01melse\u001b[39;00m:\n\u001b[1;32m--> 354\u001b[0m         applied \u001b[38;5;241m=\u001b[39m \u001b[38;5;28mgetattr\u001b[39m(b, f)(\u001b[38;5;241m*\u001b[39m\u001b[38;5;241m*\u001b[39mkwargs)\n\u001b[0;32m    355\u001b[0m     result_blocks \u001b[38;5;241m=\u001b[39m extend_blocks(applied, result_blocks)\n\u001b[0;32m    357\u001b[0m out \u001b[38;5;241m=\u001b[39m \u001b[38;5;28mtype\u001b[39m(\u001b[38;5;28mself\u001b[39m)\u001b[38;5;241m.\u001b[39mfrom_blocks(result_blocks, \u001b[38;5;28mself\u001b[39m\u001b[38;5;241m.\u001b[39maxes)\n",
            "File \u001b[1;32mc:\\Users\\cools\\AppData\\Local\\Programs\\Python\\Python310\\lib\\site-packages\\pandas\\core\\internals\\blocks.py:645\u001b[0m, in \u001b[0;36mBlock.copy\u001b[1;34m(self, deep)\u001b[0m\n\u001b[0;32m    643\u001b[0m refs: BlockValuesRefs \u001b[38;5;241m|\u001b[39m \u001b[38;5;28;01mNone\u001b[39;00m\n\u001b[0;32m    644\u001b[0m \u001b[38;5;28;01mif\u001b[39;00m deep:\n\u001b[1;32m--> 645\u001b[0m     values \u001b[38;5;241m=\u001b[39m \u001b[43mvalues\u001b[49m\u001b[38;5;241;43m.\u001b[39;49m\u001b[43mcopy\u001b[49m\u001b[43m(\u001b[49m\u001b[43m)\u001b[49m\n\u001b[0;32m    646\u001b[0m     refs \u001b[38;5;241m=\u001b[39m \u001b[38;5;28;01mNone\u001b[39;00m\n\u001b[0;32m    647\u001b[0m \u001b[38;5;28;01melse\u001b[39;00m:\n",
            "\u001b[1;31mMemoryError\u001b[0m: Unable to allocate 7.80 GiB for an array with shape (86954, 12043) and data type float64"
          ]
        }
      ],
      "source": [
        "# атрибут values передаст функции csr_matrix только значения датафрейма\n",
        "csr_data = csr_matrix(user_item_matrix.values)\n",
        "user_item_matrix = user_item_matrix.rename_axis(None, axis = 1).reset_index()"
      ]
    },
    {
      "cell_type": "code",
      "execution_count": 4,
      "metadata": {
        "colab": {
          "base_uri": "https://localhost:8080/",
          "height": 235
        },
        "id": "C3JCCmwe5Jna",
        "outputId": "9732921d-bad7-4a8c-c02f-a59682b9b2f3"
      },
      "outputs": [
        {
          "ename": "NameError",
          "evalue": "name 'user_item_matrix' is not defined",
          "output_type": "error",
          "traceback": [
            "\u001b[1;31m---------------------------------------------------------------------------\u001b[0m",
            "\u001b[1;31mNameError\u001b[0m                                 Traceback (most recent call last)",
            "Cell \u001b[1;32mIn[4], line 1\u001b[0m\n\u001b[1;32m----> 1\u001b[0m user_item_matrix \u001b[38;5;241m=\u001b[39m \u001b[43muser_item_matrix\u001b[49m\u001b[38;5;241m.\u001b[39mrename_axis(\u001b[38;5;28;01mNone\u001b[39;00m, axis \u001b[38;5;241m=\u001b[39m \u001b[38;5;241m1\u001b[39m)\u001b[38;5;241m.\u001b[39mreset_index()\n\u001b[0;32m      2\u001b[0m user_item_matrix\u001b[38;5;241m.\u001b[39mhead()\n",
            "\u001b[1;31mNameError\u001b[0m: name 'user_item_matrix' is not defined"
          ]
        }
      ],
      "source": [
        "user_item_matrix = user_item_matrix.rename_axis(None, axis = 1).reset_index()\n",
        "user_item_matrix.head()"
      ]
    },
    {
      "cell_type": "markdown",
      "metadata": {
        "id": "1G8ay-pc5V6W"
      },
      "source": [
        "### Создание модели машинного обучения \n",
        "\n",
        "На основе метода k-ближайших соседей"
      ]
    },
    {
      "cell_type": "code",
      "execution_count": 12,
      "metadata": {
        "colab": {
          "base_uri": "https://localhost:8080/"
        },
        "id": "7EY5WeFU6VEt",
        "outputId": "2cc2a099-bf4e-431a-a2fc-bade885c78f0"
      },
      "outputs": [
        {
          "data": {
            "text/plain": [
              "NearestNeighbors(algorithm='brute', metric='cosine', n_jobs=-1, n_neighbors=20)"
            ]
          },
          "execution_count": 12,
          "metadata": {},
          "output_type": "execute_result"
        }
      ],
      "source": [
        "# создадим объект класса NearestNeighbors\n",
        "# metric = ‘cosine’: косинусное сходство; algorithm = ‘brute’: полный перебор; \n",
        "# n_neighbors = 20: количество соседей; n_jobs = -1: вычисления на всех свободных ядрах процессора\n",
        "knn = NearestNeighbors(metric = 'cosine', algorithm = 'brute', n_neighbors = 20, n_jobs = -1)\n",
        "knn.fit(csr_data)"
      ]
    },
    {
      "cell_type": "markdown",
      "metadata": {
        "id": "DE-0UkL263cQ"
      },
      "source": [
        "### Получение рекомендаций"
      ]
    },
    {
      "cell_type": "code",
      "execution_count": 2,
      "metadata": {
        "id": "aMikqzXE6_i1"
      },
      "outputs": [],
      "source": [
        "recommendations = 10\n",
        "search_word = 'Attack'"
      ]
    },
    {
      "cell_type": "code",
      "execution_count": 3,
      "metadata": {
        "colab": {
          "base_uri": "https://localhost:8080/",
          "height": 143
        },
        "id": "O_q1EfK87GZY",
        "outputId": "db18ed8b-3f33-4e3f-e7e9-0cfaf790f79c"
      },
      "outputs": [
        {
          "data": {
            "text/html": [
              "<div>\n",
              "<style scoped>\n",
              "    .dataframe tbody tr th:only-of-type {\n",
              "        vertical-align: middle;\n",
              "    }\n",
              "\n",
              "    .dataframe tbody tr th {\n",
              "        vertical-align: top;\n",
              "    }\n",
              "\n",
              "    .dataframe thead th {\n",
              "        text-align: right;\n",
              "    }\n",
              "</style>\n",
              "<table border=\"1\" class=\"dataframe\">\n",
              "  <thead>\n",
              "    <tr style=\"text-align: right;\">\n",
              "      <th></th>\n",
              "      <th>anime_id</th>\n",
              "      <th>title</th>\n",
              "      <th>genres</th>\n",
              "      <th>media</th>\n",
              "      <th>episodes</th>\n",
              "      <th>rating</th>\n",
              "      <th>members</th>\n",
              "      <th>start_date</th>\n",
              "      <th>season</th>\n",
              "      <th>source</th>\n",
              "    </tr>\n",
              "  </thead>\n",
              "  <tbody>\n",
              "    <tr>\n",
              "      <th>1399</th>\n",
              "      <td>1550</td>\n",
              "      <td>Attack No.1</td>\n",
              "      <td>Drama,Shoujo,Sports</td>\n",
              "      <td>tv</td>\n",
              "      <td>104</td>\n",
              "      <td>6.74</td>\n",
              "      <td>7108.0</td>\n",
              "      <td>1969/12/7</td>\n",
              "      <td>winter_1970</td>\n",
              "      <td>manga</td>\n",
              "    </tr>\n",
              "    <tr>\n",
              "      <th>2785</th>\n",
              "      <td>3081</td>\n",
              "      <td>Attacker You!</td>\n",
              "      <td>Action,Romance,Shoujo,Sports</td>\n",
              "      <td>tv</td>\n",
              "      <td>58</td>\n",
              "      <td>6.57</td>\n",
              "      <td>5532.0</td>\n",
              "      <td>1984/4/13</td>\n",
              "      <td>spring_1984</td>\n",
              "      <td>manga</td>\n",
              "    </tr>\n",
              "    <tr>\n",
              "      <th>3555</th>\n",
              "      <td>4339</td>\n",
              "      <td>Ashita e Attack!</td>\n",
              "      <td>Sports,School,Drama</td>\n",
              "      <td>tv</td>\n",
              "      <td>23</td>\n",
              "      <td>6.38</td>\n",
              "      <td>1574.0</td>\n",
              "      <td>1977/4/4</td>\n",
              "      <td>spring_1977</td>\n",
              "      <td>original</td>\n",
              "    </tr>\n",
              "    <tr>\n",
              "      <th>5471</th>\n",
              "      <td>9163</td>\n",
              "      <td>Attack No.1 (1970)</td>\n",
              "      <td>Sports,Drama,Shoujo</td>\n",
              "      <td>movie</td>\n",
              "      <td>1</td>\n",
              "      <td>6.14</td>\n",
              "      <td>891.0</td>\n",
              "      <td>1970/3/21</td>\n",
              "      <td>winter_1970</td>\n",
              "      <td>NaN</td>\n",
              "    </tr>\n",
              "    <tr>\n",
              "      <th>5472</th>\n",
              "      <td>9164</td>\n",
              "      <td>Attack No.1: Namida no Fushichou</td>\n",
              "      <td>Sports,Drama,Shoujo</td>\n",
              "      <td>movie</td>\n",
              "      <td>1</td>\n",
              "      <td>6.02</td>\n",
              "      <td>640.0</td>\n",
              "      <td>1971/3/17</td>\n",
              "      <td>winter_1971</td>\n",
              "      <td>NaN</td>\n",
              "    </tr>\n",
              "    <tr>\n",
              "      <th>5473</th>\n",
              "      <td>9165</td>\n",
              "      <td>Attack No.1: Namida no Kaiten Receive</td>\n",
              "      <td>Sports,Drama,Shoujo</td>\n",
              "      <td>movie</td>\n",
              "      <td>1</td>\n",
              "      <td>6.12</td>\n",
              "      <td>661.0</td>\n",
              "      <td>1970/8/1</td>\n",
              "      <td>summer_1970</td>\n",
              "      <td>NaN</td>\n",
              "    </tr>\n",
              "    <tr>\n",
              "      <th>5474</th>\n",
              "      <td>9166</td>\n",
              "      <td>Attack No.1: Namida no Sekai Senshuken</td>\n",
              "      <td>Sports,Drama,Shoujo</td>\n",
              "      <td>movie</td>\n",
              "      <td>1</td>\n",
              "      <td>6.13</td>\n",
              "      <td>649.0</td>\n",
              "      <td>1970/12/19</td>\n",
              "      <td>fall_1970</td>\n",
              "      <td>NaN</td>\n",
              "    </tr>\n",
              "    <tr>\n",
              "      <th>8679</th>\n",
              "      <td>24259</td>\n",
              "      <td>Mechano: Scientific Attack Force</td>\n",
              "      <td>Comedy,Dementia,Fantasy,Horror,Music,Parody</td>\n",
              "      <td>ova</td>\n",
              "      <td>3</td>\n",
              "      <td>NaN</td>\n",
              "      <td>334.0</td>\n",
              "      <td>1995/9/1</td>\n",
              "      <td>summer_1995</td>\n",
              "      <td>NaN</td>\n",
              "    </tr>\n",
              "    <tr>\n",
              "      <th>10435</th>\n",
              "      <td>32707</td>\n",
              "      <td>Jewelpet: Attack Chance!?</td>\n",
              "      <td>Comedy,Magic,Fantasy,Shoujo</td>\n",
              "      <td>ona</td>\n",
              "      <td>3</td>\n",
              "      <td>5.73</td>\n",
              "      <td>773.0</td>\n",
              "      <td>2016/2/19</td>\n",
              "      <td>winter_2016</td>\n",
              "      <td>original</td>\n",
              "    </tr>\n",
              "    <tr>\n",
              "      <th>12542</th>\n",
              "      <td>36894</td>\n",
              "      <td>Inazma Delivery: Dougyousha Attack-hen</td>\n",
              "      <td>Action,Sci-Fi,Comedy</td>\n",
              "      <td>tv</td>\n",
              "      <td>10</td>\n",
              "      <td>6.16</td>\n",
              "      <td>513.0</td>\n",
              "      <td>2017/12/8</td>\n",
              "      <td>winter_2018</td>\n",
              "      <td>original</td>\n",
              "    </tr>\n",
              "  </tbody>\n",
              "</table>\n",
              "</div>"
            ],
            "text/plain": [
              "       anime_id                                   title  \\\n",
              "1399       1550                             Attack No.1   \n",
              "2785       3081                           Attacker You!   \n",
              "3555       4339                        Ashita e Attack!   \n",
              "5471       9163                      Attack No.1 (1970)   \n",
              "5472       9164        Attack No.1: Namida no Fushichou   \n",
              "5473       9165   Attack No.1: Namida no Kaiten Receive   \n",
              "5474       9166  Attack No.1: Namida no Sekai Senshuken   \n",
              "8679      24259        Mechano: Scientific Attack Force   \n",
              "10435     32707               Jewelpet: Attack Chance!?   \n",
              "12542     36894  Inazma Delivery: Dougyousha Attack-hen   \n",
              "\n",
              "                                            genres  media  episodes  rating  \\\n",
              "1399                           Drama,Shoujo,Sports     tv       104    6.74   \n",
              "2785                  Action,Romance,Shoujo,Sports     tv        58    6.57   \n",
              "3555                           Sports,School,Drama     tv        23    6.38   \n",
              "5471                           Sports,Drama,Shoujo  movie         1    6.14   \n",
              "5472                           Sports,Drama,Shoujo  movie         1    6.02   \n",
              "5473                           Sports,Drama,Shoujo  movie         1    6.12   \n",
              "5474                           Sports,Drama,Shoujo  movie         1    6.13   \n",
              "8679   Comedy,Dementia,Fantasy,Horror,Music,Parody    ova         3     NaN   \n",
              "10435                  Comedy,Magic,Fantasy,Shoujo    ona         3    5.73   \n",
              "12542                         Action,Sci-Fi,Comedy     tv        10    6.16   \n",
              "\n",
              "       members  start_date       season    source  \n",
              "1399    7108.0   1969/12/7  winter_1970     manga  \n",
              "2785    5532.0   1984/4/13  spring_1984     manga  \n",
              "3555    1574.0    1977/4/4  spring_1977  original  \n",
              "5471     891.0   1970/3/21  winter_1970       NaN  \n",
              "5472     640.0   1971/3/17  winter_1971       NaN  \n",
              "5473     661.0    1970/8/1  summer_1970       NaN  \n",
              "5474     649.0  1970/12/19    fall_1970       NaN  \n",
              "8679     334.0    1995/9/1  summer_1995       NaN  \n",
              "10435    773.0   2016/2/19  winter_2016  original  \n",
              "12542    513.0   2017/12/8  winter_2018  original  "
            ]
          },
          "execution_count": 3,
          "metadata": {},
          "output_type": "execute_result"
        }
      ],
      "source": [
        "animes_search = animes[animes['title'].str.contains(search_word)]\n",
        "animes_search"
      ]
    },
    {
      "cell_type": "code",
      "execution_count": 12,
      "metadata": {
        "colab": {
          "base_uri": "https://localhost:8080/"
        },
        "id": "zD1VVsiX7Urn",
        "outputId": "529ef753-0e0a-4072-b80d-c294bc45a5f4"
      },
      "outputs": [
        {
          "ename": "KeyError",
          "evalue": "'anime_id'",
          "output_type": "error",
          "traceback": [
            "\u001b[1;31m---------------------------------------------------------------------------\u001b[0m",
            "\u001b[1;31mKeyError\u001b[0m                                  Traceback (most recent call last)",
            "File \u001b[1;32mc:\\Users\\cools\\AppData\\Local\\Programs\\Python\\Python310\\lib\\site-packages\\pandas\\core\\indexes\\base.py:3790\u001b[0m, in \u001b[0;36mIndex.get_loc\u001b[1;34m(self, key)\u001b[0m\n\u001b[0;32m   3789\u001b[0m \u001b[38;5;28;01mtry\u001b[39;00m:\n\u001b[1;32m-> 3790\u001b[0m     \u001b[38;5;28;01mreturn\u001b[39;00m \u001b[38;5;28;43mself\u001b[39;49m\u001b[38;5;241;43m.\u001b[39;49m\u001b[43m_engine\u001b[49m\u001b[38;5;241;43m.\u001b[39;49m\u001b[43mget_loc\u001b[49m\u001b[43m(\u001b[49m\u001b[43mcasted_key\u001b[49m\u001b[43m)\u001b[49m\n\u001b[0;32m   3791\u001b[0m \u001b[38;5;28;01mexcept\u001b[39;00m \u001b[38;5;167;01mKeyError\u001b[39;00m \u001b[38;5;28;01mas\u001b[39;00m err:\n",
            "File \u001b[1;32mindex.pyx:152\u001b[0m, in \u001b[0;36mpandas._libs.index.IndexEngine.get_loc\u001b[1;34m()\u001b[0m\n",
            "File \u001b[1;32mindex.pyx:160\u001b[0m, in \u001b[0;36mpandas._libs.index.IndexEngine.get_loc\u001b[1;34m()\u001b[0m\n",
            "File \u001b[1;32mpandas\\_libs\\index_class_helper.pxi:70\u001b[0m, in \u001b[0;36mpandas._libs.index.Int64Engine._check_type\u001b[1;34m()\u001b[0m\n",
            "\u001b[1;31mKeyError\u001b[0m: 'anime_id'",
            "\nThe above exception was the direct cause of the following exception:\n",
            "\u001b[1;31mKeyError\u001b[0m                                  Traceback (most recent call last)",
            "Cell \u001b[1;32mIn[12], line 5\u001b[0m\n\u001b[0;32m      1\u001b[0m anime_id \u001b[38;5;241m=\u001b[39m animes_search\u001b[38;5;241m.\u001b[39miloc[\u001b[38;5;241m0\u001b[39m][\u001b[38;5;124m'\u001b[39m\u001b[38;5;124manime_id\u001b[39m\u001b[38;5;124m'\u001b[39m]\n\u001b[0;32m      3\u001b[0m \u001b[38;5;66;03m# далее по индексу фильма в датасете movies найдем соответствующий индекс\u001b[39;00m\n\u001b[0;32m      4\u001b[0m \u001b[38;5;66;03m# в матрице предпочтений\u001b[39;00m\n\u001b[1;32m----> 5\u001b[0m anime_id \u001b[38;5;241m=\u001b[39m user_item_matrix[\u001b[43muser_item_matrix\u001b[49m\u001b[43m[\u001b[49m\u001b[38;5;124;43m'\u001b[39;49m\u001b[38;5;124;43manime_id\u001b[39;49m\u001b[38;5;124;43m'\u001b[39;49m\u001b[43m]\u001b[49m \u001b[38;5;241m==\u001b[39m anime_id]\u001b[38;5;241m.\u001b[39mindex[\u001b[38;5;241m0\u001b[39m]\n\u001b[0;32m      6\u001b[0m anime_id\n",
            "File \u001b[1;32mc:\\Users\\cools\\AppData\\Local\\Programs\\Python\\Python310\\lib\\site-packages\\pandas\\core\\frame.py:3893\u001b[0m, in \u001b[0;36mDataFrame.__getitem__\u001b[1;34m(self, key)\u001b[0m\n\u001b[0;32m   3891\u001b[0m \u001b[38;5;28;01mif\u001b[39;00m \u001b[38;5;28mself\u001b[39m\u001b[38;5;241m.\u001b[39mcolumns\u001b[38;5;241m.\u001b[39mnlevels \u001b[38;5;241m>\u001b[39m \u001b[38;5;241m1\u001b[39m:\n\u001b[0;32m   3892\u001b[0m     \u001b[38;5;28;01mreturn\u001b[39;00m \u001b[38;5;28mself\u001b[39m\u001b[38;5;241m.\u001b[39m_getitem_multilevel(key)\n\u001b[1;32m-> 3893\u001b[0m indexer \u001b[38;5;241m=\u001b[39m \u001b[38;5;28;43mself\u001b[39;49m\u001b[38;5;241;43m.\u001b[39;49m\u001b[43mcolumns\u001b[49m\u001b[38;5;241;43m.\u001b[39;49m\u001b[43mget_loc\u001b[49m\u001b[43m(\u001b[49m\u001b[43mkey\u001b[49m\u001b[43m)\u001b[49m\n\u001b[0;32m   3894\u001b[0m \u001b[38;5;28;01mif\u001b[39;00m is_integer(indexer):\n\u001b[0;32m   3895\u001b[0m     indexer \u001b[38;5;241m=\u001b[39m [indexer]\n",
            "File \u001b[1;32mc:\\Users\\cools\\AppData\\Local\\Programs\\Python\\Python310\\lib\\site-packages\\pandas\\core\\indexes\\base.py:3797\u001b[0m, in \u001b[0;36mIndex.get_loc\u001b[1;34m(self, key)\u001b[0m\n\u001b[0;32m   3792\u001b[0m     \u001b[38;5;28;01mif\u001b[39;00m \u001b[38;5;28misinstance\u001b[39m(casted_key, \u001b[38;5;28mslice\u001b[39m) \u001b[38;5;129;01mor\u001b[39;00m (\n\u001b[0;32m   3793\u001b[0m         \u001b[38;5;28misinstance\u001b[39m(casted_key, abc\u001b[38;5;241m.\u001b[39mIterable)\n\u001b[0;32m   3794\u001b[0m         \u001b[38;5;129;01mand\u001b[39;00m \u001b[38;5;28many\u001b[39m(\u001b[38;5;28misinstance\u001b[39m(x, \u001b[38;5;28mslice\u001b[39m) \u001b[38;5;28;01mfor\u001b[39;00m x \u001b[38;5;129;01min\u001b[39;00m casted_key)\n\u001b[0;32m   3795\u001b[0m     ):\n\u001b[0;32m   3796\u001b[0m         \u001b[38;5;28;01mraise\u001b[39;00m InvalidIndexError(key)\n\u001b[1;32m-> 3797\u001b[0m     \u001b[38;5;28;01mraise\u001b[39;00m \u001b[38;5;167;01mKeyError\u001b[39;00m(key) \u001b[38;5;28;01mfrom\u001b[39;00m \u001b[38;5;21;01merr\u001b[39;00m\n\u001b[0;32m   3798\u001b[0m \u001b[38;5;28;01mexcept\u001b[39;00m \u001b[38;5;167;01mTypeError\u001b[39;00m:\n\u001b[0;32m   3799\u001b[0m     \u001b[38;5;66;03m# If we have a listlike key, _check_indexing_error will raise\u001b[39;00m\n\u001b[0;32m   3800\u001b[0m     \u001b[38;5;66;03m#  InvalidIndexError. Otherwise we fall through and re-raise\u001b[39;00m\n\u001b[0;32m   3801\u001b[0m     \u001b[38;5;66;03m#  the TypeError.\u001b[39;00m\n\u001b[0;32m   3802\u001b[0m     \u001b[38;5;28mself\u001b[39m\u001b[38;5;241m.\u001b[39m_check_indexing_error(key)\n",
            "\u001b[1;31mKeyError\u001b[0m: 'anime_id'"
          ]
        }
      ],
      "source": [
        "anime_id = animes_search.iloc[0]['anime_id']\n",
        " \n",
        "# далее по индексу фильма в датасете movies найдем соответствующий индекс\n",
        "# в матрице предпочтений\n",
        "anime_id = user_item_matrix[user_item_matrix['anime_id'] == anime_id].index[0]\n",
        "anime_id"
      ]
    },
    {
      "cell_type": "code",
      "execution_count": 16,
      "metadata": {
        "colab": {
          "base_uri": "https://localhost:8080/"
        },
        "id": "ad_Gyxsn8VmG",
        "outputId": "ebd95d06-6f94-4764-84be-88e734464cf5"
      },
      "outputs": [
        {
          "name": "stdout",
          "output_type": "stream",
          "text": [
            "  (0, 0)\t5.0\n",
            "  (0, 1)\t1.0\n",
            "  (0, 4)\t0.5\n",
            "  (0, 6)\t4.0\n",
            "  (0, 7)\t3.5\n",
            "  (0, 8)\t5.0\n",
            "  (0, 9)\t4.5\n",
            "  (0, 10)\t4.0\n",
            "  (0, 12)\t4.0\n",
            "  (0, 15)\t4.0\n",
            "  (0, 17)\t4.0\n",
            "  (0, 20)\t5.0\n",
            "  (0, 21)\t3.0\n",
            "  (0, 24)\t5.0\n",
            "  (0, 26)\t2.0\n",
            "  (0, 27)\t5.0\n",
            "  (0, 29)\t5.0\n",
            "  (0, 31)\t2.5\n",
            "  (0, 33)\t5.0\n",
            "  (0, 34)\t5.0\n",
            "  (0, 36)\t1.0\n",
            "  (0, 37)\t5.0\n",
            "  (0, 38)\t3.5\n",
            "  (0, 39)\t4.0\n",
            "  (0, 40)\t5.0\n",
            "  :\t:\n",
            "  (0, 335)\t5.0\n",
            "  (0, 336)\t5.0\n",
            "  (0, 339)\t4.5\n",
            "  (0, 340)\t4.0\n",
            "  (0, 341)\t5.0\n",
            "  (0, 346)\t4.5\n",
            "  (0, 349)\t5.0\n",
            "  (0, 351)\t5.0\n",
            "  (0, 352)\t5.0\n",
            "  (0, 353)\t5.0\n",
            "  (0, 357)\t5.0\n",
            "  (0, 358)\t4.0\n",
            "  (0, 360)\t4.0\n",
            "  (0, 361)\t5.0\n",
            "  (0, 363)\t2.5\n",
            "  (0, 364)\t5.0\n",
            "  (0, 365)\t4.0\n",
            "  (0, 367)\t5.0\n",
            "  (0, 368)\t3.0\n",
            "  (0, 369)\t5.0\n",
            "  (0, 371)\t5.0\n",
            "  (0, 374)\t5.0\n",
            "  (0, 375)\t5.0\n",
            "  (0, 376)\t5.0\n",
            "  (0, 377)\t5.0\n"
          ]
        }
      ],
      "source": [
        "print(csr_data[anime_id])"
      ]
    },
    {
      "cell_type": "code",
      "execution_count": 17,
      "metadata": {
        "id": "d7kGRK7k7e9f"
      },
      "outputs": [],
      "source": [
        "#поиск индексов ближайших соседей \n",
        "#массив индексов фильмов (indices) и массив расстояний (distances) до них\n",
        "distances, indices = knn.kneighbors(csr_data[anime_id], n_neighbors = recommendations + 1)"
      ]
    },
    {
      "cell_type": "code",
      "execution_count": 13,
      "metadata": {
        "colab": {
          "base_uri": "https://localhost:8080/"
        },
        "id": "MFievusQ9QqD",
        "outputId": "b9c97929-f60a-461e-cdc9-81989572c874"
      },
      "outputs": [
        {
          "ename": "NameError",
          "evalue": "name 'indices' is not defined",
          "output_type": "error",
          "traceback": [
            "\u001b[1;31m---------------------------------------------------------------------------\u001b[0m",
            "\u001b[1;31mNameError\u001b[0m                                 Traceback (most recent call last)",
            "Cell \u001b[1;32mIn[13], line 2\u001b[0m\n\u001b[0;32m      1\u001b[0m \u001b[38;5;66;03m# уберем лишние измерения через squeeze() и преобразуем массивы в списки с помощью tolist()\u001b[39;00m\n\u001b[1;32m----> 2\u001b[0m indices_list \u001b[38;5;241m=\u001b[39m \u001b[43mindices\u001b[49m\u001b[38;5;241m.\u001b[39msqueeze()\u001b[38;5;241m.\u001b[39mtolist()\n\u001b[0;32m      3\u001b[0m distances_list \u001b[38;5;241m=\u001b[39m distances\u001b[38;5;241m.\u001b[39msqueeze()\u001b[38;5;241m.\u001b[39mtolist()\n\u001b[0;32m      5\u001b[0m indices_distances \u001b[38;5;241m=\u001b[39m \u001b[38;5;28mlist\u001b[39m(\u001b[38;5;28mzip\u001b[39m(indices_list, distances_list))\n",
            "\u001b[1;31mNameError\u001b[0m: name 'indices' is not defined"
          ]
        }
      ],
      "source": [
        "# уберем лишние измерения через squeeze() и преобразуем массивы в списки с помощью tolist()\n",
        "indices_list = indices.squeeze().tolist()\n",
        "distances_list = distances.squeeze().tolist()\n",
        " \n",
        "indices_distances = list(zip(indices_list, distances_list))\n",
        " \n",
        "# в набор кортежей (tuple)\n",
        "print(type(indices_distances[0]))\n",
        " \n",
        "# и посмотрим на первые три пары/кортежа\n",
        "print(indices_distances[:3])"
      ]
    },
    {
      "cell_type": "code",
      "execution_count": 19,
      "metadata": {
        "colab": {
          "base_uri": "https://localhost:8080/"
        },
        "id": "tuVVPBK9a9kk",
        "outputId": "42fecd78-3052-4fbc-ae7e-099fa105a718"
      },
      "outputs": [
        {
          "data": {
            "text/plain": [
              "[(1002, 0.22982440568634488),\n",
              " (442, 0.25401128310081567),\n",
              " (454, 0.27565616686043737),\n",
              " (124, 0.2776088577731709),\n",
              " (735, 0.2869100842838125),\n",
              " (954, 0.2911101181714415),\n",
              " (1362, 0.31393358217709477),\n",
              " (1157, 0.31405925934381695),\n",
              " (1536, 0.3154800434449465),\n",
              " (978, 0.31748544046311844)]"
            ]
          },
          "execution_count": 19,
          "metadata": {},
          "output_type": "execute_result"
        }
      ],
      "source": [
        "indices_distances_sorted = sorted(indices_distances, key = lambda x: x[1], reverse = False)\n",
        "\n",
        "# и убрать первый элемент с индексом 901 (потому что это и есть \"Матрица\")\n",
        "indices_distances_sorted = indices_distances_sorted[1:]\n",
        "indices_distances_sorted"
      ]
    },
    {
      "cell_type": "code",
      "execution_count": 20,
      "metadata": {
        "id": "br0lDYTfbfRT"
      },
      "outputs": [],
      "source": [
        "# сопоставление индексам названия фильмов \n",
        "recom_list = []\n",
        "\n",
        "# теперь в цикле будем поочередно проходить по кортежам\n",
        "for ind_dist in indices_distances_sorted:\n",
        "\n",
        "    # искать movieId в матрице предпочтений\n",
        "    matrix_movie_id = user_item_matrix.iloc[ind_dist[0]]['anime_id']\n",
        "\n",
        "    # выяснять индекс этого фильма в датафрейме movies\n",
        "    id = animes[animes['anime_id'] == matrix_movie_id].index\n",
        "\n",
        "    # брать название фильма и расстояние до него\n",
        "    title = animes.iloc[id]['title'].values[0]\n",
        "    dist = ind_dist[1]\n",
        "\n",
        "    # помещать каждую пару в питоновский словарь\n",
        "    # который, в свою очередь, станет элементом списка recom_list\n",
        "    recom_list.append({'Title' : title, 'Distance' : dist})"
      ]
    },
    {
      "cell_type": "code",
      "execution_count": 21,
      "metadata": {
        "colab": {
          "base_uri": "https://localhost:8080/"
        },
        "id": "Uf0H0v1Kb1Gn",
        "outputId": "e75d02a8-7712-40df-84b7-284653593116"
      },
      "outputs": [
        {
          "data": {
            "text/plain": [
              "[{'Title': 'Fight Club (1999)', 'Distance': 0.22982440568634488},\n",
              " {'Title': 'Star Wars: Episode V - The Empire Strikes Back (1980)',\n",
              "  'Distance': 0.25401128310081567},\n",
              " {'Title': 'Star Wars: Episode VI - Return of the Jedi (1983)',\n",
              "  'Distance': 0.27565616686043737},\n",
              " {'Title': 'Star Wars: Episode IV - A New Hope (1977)',\n",
              "  'Distance': 0.2776088577731709},\n",
              " {'Title': 'Saving Private Ryan (1998)', 'Distance': 0.2869100842838125}]"
            ]
          },
          "execution_count": 21,
          "metadata": {},
          "output_type": "execute_result"
        }
      ],
      "source": [
        "recom_list[:5]"
      ]
    },
    {
      "cell_type": "code",
      "execution_count": 14,
      "metadata": {
        "colab": {
          "base_uri": "https://localhost:8080/",
          "height": 363
        },
        "id": "FtF7lva1cATy",
        "outputId": "012417e7-d0e5-45b9-b730-20538964b5e7"
      },
      "outputs": [
        {
          "ename": "NameError",
          "evalue": "name 'recom_list' is not defined",
          "output_type": "error",
          "traceback": [
            "\u001b[1;31m---------------------------------------------------------------------------\u001b[0m",
            "\u001b[1;31mNameError\u001b[0m                                 Traceback (most recent call last)",
            "Cell \u001b[1;32mIn[14], line 2\u001b[0m\n\u001b[0;32m      1\u001b[0m \u001b[38;5;66;03m#преобразование в датафрейм\u001b[39;00m\n\u001b[1;32m----> 2\u001b[0m recom_df \u001b[38;5;241m=\u001b[39m pd\u001b[38;5;241m.\u001b[39mDataFrame(\u001b[43mrecom_list\u001b[49m, index \u001b[38;5;241m=\u001b[39m \u001b[38;5;28mrange\u001b[39m(\u001b[38;5;241m1\u001b[39m, recommendations \u001b[38;5;241m+\u001b[39m \u001b[38;5;241m1\u001b[39m))\n\u001b[0;32m      3\u001b[0m recom_df\n",
            "\u001b[1;31mNameError\u001b[0m: name 'recom_list' is not defined"
          ]
        }
      ],
      "source": [
        "#преобразование в датафрейм\n",
        "recom_df = pd.DataFrame(recom_list, index = range(1, recommendations + 1))\n",
        "recom_df"
      ]
    }
  ],
  "metadata": {
    "colab": {
      "provenance": [],
      "toc_visible": true
    },
    "kernelspec": {
      "display_name": "Python 3",
      "name": "python3"
    },
    "language_info": {
      "codemirror_mode": {
        "name": "ipython",
        "version": 3
      },
      "file_extension": ".py",
      "mimetype": "text/x-python",
      "name": "python",
      "nbconvert_exporter": "python",
      "pygments_lexer": "ipython3",
      "version": "3.10.0"
    }
  },
  "nbformat": 4,
  "nbformat_minor": 0
}
